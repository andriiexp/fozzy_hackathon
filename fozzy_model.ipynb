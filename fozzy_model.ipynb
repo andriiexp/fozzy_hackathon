{
 "cells": [
  {
   "cell_type": "code",
   "execution_count": 1,
   "metadata": {},
   "outputs": [],
   "source": [
    "import pandas as pd\n",
    "import numpy as np"
   ]
  },
  {
   "cell_type": "code",
   "execution_count": 2,
   "metadata": {},
   "outputs": [
    {
     "data": {
      "text/html": [
       "<div>\n",
       "<style scoped>\n",
       "    .dataframe tbody tr th:only-of-type {\n",
       "        vertical-align: middle;\n",
       "    }\n",
       "\n",
       "    .dataframe tbody tr th {\n",
       "        vertical-align: top;\n",
       "    }\n",
       "\n",
       "    .dataframe thead th {\n",
       "        text-align: right;\n",
       "    }\n",
       "</style>\n",
       "<table border=\"1\" class=\"dataframe\">\n",
       "  <thead>\n",
       "    <tr style=\"text-align: right;\">\n",
       "      <th></th>\n",
       "      <th>geoCluster</th>\n",
       "      <th>cityId</th>\n",
       "    </tr>\n",
       "  </thead>\n",
       "  <tbody>\n",
       "    <tr>\n",
       "      <td>0</td>\n",
       "      <td>21</td>\n",
       "      <td>1</td>\n",
       "    </tr>\n",
       "    <tr>\n",
       "      <td>1</td>\n",
       "      <td>47</td>\n",
       "      <td>1</td>\n",
       "    </tr>\n",
       "    <tr>\n",
       "      <td>2</td>\n",
       "      <td>48</td>\n",
       "      <td>1</td>\n",
       "    </tr>\n",
       "    <tr>\n",
       "      <td>3</td>\n",
       "      <td>92</td>\n",
       "      <td>1</td>\n",
       "    </tr>\n",
       "    <tr>\n",
       "      <td>4</td>\n",
       "      <td>112</td>\n",
       "      <td>1</td>\n",
       "    </tr>\n",
       "  </tbody>\n",
       "</table>\n",
       "</div>"
      ],
      "text/plain": [
       "   geoCluster  cityId\n",
       "0          21       1\n",
       "1          47       1\n",
       "2          48       1\n",
       "3          92       1\n",
       "4         112       1"
      ]
     },
     "execution_count": 2,
     "metadata": {},
     "output_type": "execute_result"
    }
   ],
   "source": [
    "df_geo=pd.read_csv('geo_params.csv')\n",
    "df_geo.head()"
   ]
  },
  {
   "cell_type": "code",
   "execution_count": 3,
   "metadata": {},
   "outputs": [
    {
     "data": {
      "text/plain": [
       "geoCluster    int64\n",
       "cityId        int64\n",
       "dtype: object"
      ]
     },
     "execution_count": 3,
     "metadata": {},
     "output_type": "execute_result"
    }
   ],
   "source": [
    "df_geo.dtypes"
   ]
  },
  {
   "cell_type": "code",
   "execution_count": 3,
   "metadata": {},
   "outputs": [
    {
     "data": {
      "text/html": [
       "<div>\n",
       "<style scoped>\n",
       "    .dataframe tbody tr th:only-of-type {\n",
       "        vertical-align: middle;\n",
       "    }\n",
       "\n",
       "    .dataframe tbody tr th {\n",
       "        vertical-align: top;\n",
       "    }\n",
       "\n",
       "    .dataframe thead th {\n",
       "        text-align: right;\n",
       "    }\n",
       "</style>\n",
       "<table border=\"1\" class=\"dataframe\">\n",
       "  <thead>\n",
       "    <tr style=\"text-align: right;\">\n",
       "      <th></th>\n",
       "      <th>SKU</th>\n",
       "      <th>productCategoryId</th>\n",
       "      <th>productCategory_caption_UKR</th>\n",
       "      <th>productCategory_caption_RU</th>\n",
       "      <th>productCategory_caption_ENG</th>\n",
       "      <th>productTypeId</th>\n",
       "      <th>productType_caption_UKR</th>\n",
       "      <th>productType_caption_RU</th>\n",
       "      <th>productType_caption_ENG</th>\n",
       "      <th>brandId</th>\n",
       "      <th>lagerUnitQuantity</th>\n",
       "      <th>lagerUnitTypeId</th>\n",
       "      <th>lagerUnitType_caption</th>\n",
       "      <th>trademark</th>\n",
       "      <th>countryOfOrigin</th>\n",
       "      <th>countryOfOrigin_caption</th>\n",
       "      <th>commodity_group</th>\n",
       "      <th>commodity_group_caption_UKR</th>\n",
       "      <th>commodity_group_caption_RU</th>\n",
       "      <th>commodity_group_caption_ENG</th>\n",
       "    </tr>\n",
       "  </thead>\n",
       "  <tbody>\n",
       "    <tr>\n",
       "      <td>0</td>\n",
       "      <td>17</td>\n",
       "      <td>5416.0</td>\n",
       "      <td>Хурма</td>\n",
       "      <td>Хурма</td>\n",
       "      <td>Persimmon</td>\n",
       "      <td>4770.0</td>\n",
       "      <td>Тропічні фрукти - Хурма - Звичайна</td>\n",
       "      <td>Тропические фрукты - Хурма - Обычная</td>\n",
       "      <td>Tropical fruit — Persimmon — Plain</td>\n",
       "      <td>NaN</td>\n",
       "      <td>1.0</td>\n",
       "      <td>1</td>\n",
       "      <td>г</td>\n",
       "      <td>NaN</td>\n",
       "      <td>NaN</td>\n",
       "      <td>NaN</td>\n",
       "      <td>5551018</td>\n",
       "      <td>Фрукти тропічні</td>\n",
       "      <td>Фрукты тропические</td>\n",
       "      <td>Tropical fruits</td>\n",
       "    </tr>\n",
       "    <tr>\n",
       "      <td>1</td>\n",
       "      <td>18</td>\n",
       "      <td>5413.0</td>\n",
       "      <td>Фейхоа</td>\n",
       "      <td>Фейхоа</td>\n",
       "      <td>Feijoa</td>\n",
       "      <td>4772.0</td>\n",
       "      <td>Тропічні фрукти - Екзотичні</td>\n",
       "      <td>Тропические фрукты - Экзотические</td>\n",
       "      <td>Tropical fruit — Exotic</td>\n",
       "      <td>NaN</td>\n",
       "      <td>1.0</td>\n",
       "      <td>1</td>\n",
       "      <td>г</td>\n",
       "      <td>NaN</td>\n",
       "      <td>NaN</td>\n",
       "      <td>NaN</td>\n",
       "      <td>5551018</td>\n",
       "      <td>Фрукти тропічні</td>\n",
       "      <td>Фрукты тропические</td>\n",
       "      <td>Tropical fruits</td>\n",
       "    </tr>\n",
       "    <tr>\n",
       "      <td>2</td>\n",
       "      <td>24</td>\n",
       "      <td>5425.0</td>\n",
       "      <td>Гранат</td>\n",
       "      <td>Гранат</td>\n",
       "      <td>Pomegranate</td>\n",
       "      <td>4760.0</td>\n",
       "      <td>Тропічні фрукти - Гранат - Звичайний</td>\n",
       "      <td>Тропические фрукты - Гранат - Обычный</td>\n",
       "      <td>Tropical fruit — Pomegranate— Plain</td>\n",
       "      <td>NaN</td>\n",
       "      <td>1.0</td>\n",
       "      <td>1</td>\n",
       "      <td>г</td>\n",
       "      <td>NaN</td>\n",
       "      <td>NaN</td>\n",
       "      <td>NaN</td>\n",
       "      <td>5551018</td>\n",
       "      <td>Фрукти тропічні</td>\n",
       "      <td>Фрукты тропические</td>\n",
       "      <td>Tropical fruits</td>\n",
       "    </tr>\n",
       "    <tr>\n",
       "      <td>3</td>\n",
       "      <td>25</td>\n",
       "      <td>5431.0</td>\n",
       "      <td>Апельсин</td>\n",
       "      <td>Апельсин</td>\n",
       "      <td>Orange</td>\n",
       "      <td>4773.0</td>\n",
       "      <td>Цитрусові фрукти - Апельсин - Звичайний</td>\n",
       "      <td>Цитрусовые фрукты - Апельсин - Обычный</td>\n",
       "      <td>Citrus fruit — Orange — Plain</td>\n",
       "      <td>NaN</td>\n",
       "      <td>1.0</td>\n",
       "      <td>2</td>\n",
       "      <td>кг</td>\n",
       "      <td>NaN</td>\n",
       "      <td>8.0</td>\n",
       "      <td>Іспанія</td>\n",
       "      <td>5551018</td>\n",
       "      <td>Фрукти тропічні</td>\n",
       "      <td>Фрукты тропические</td>\n",
       "      <td>Tropical fruits</td>\n",
       "    </tr>\n",
       "    <tr>\n",
       "      <td>4</td>\n",
       "      <td>208</td>\n",
       "      <td>5835.0</td>\n",
       "      <td>Вода України газована</td>\n",
       "      <td>Вода Украины газированная</td>\n",
       "      <td>Water, Ukraine, sparkling</td>\n",
       "      <td>3457.0</td>\n",
       "      <td>Лікувально-столова вода - Україна - ПЕТ - від ...</td>\n",
       "      <td>Лечебно-столовая вода - Украина - ПЭТ - от 1л ...</td>\n",
       "      <td>Therapeutic-table water — Ukraine — PET — from...</td>\n",
       "      <td>1241.0</td>\n",
       "      <td>1.5</td>\n",
       "      <td>3</td>\n",
       "      <td>л</td>\n",
       "      <td>3670.0</td>\n",
       "      <td>1.0</td>\n",
       "      <td>Україна</td>\n",
       "      <td>5550022</td>\n",
       "      <td>Вода Мфнеральна</td>\n",
       "      <td>Вода Минеральная</td>\n",
       "      <td>Mineral water</td>\n",
       "    </tr>\n",
       "  </tbody>\n",
       "</table>\n",
       "</div>"
      ],
      "text/plain": [
       "   SKU  productCategoryId productCategory_caption_UKR  \\\n",
       "0   17             5416.0                       Хурма   \n",
       "1   18             5413.0                      Фейхоа   \n",
       "2   24             5425.0                      Гранат   \n",
       "3   25             5431.0                    Апельсин   \n",
       "4  208             5835.0       Вода України газована   \n",
       "\n",
       "  productCategory_caption_RU productCategory_caption_ENG  productTypeId  \\\n",
       "0                      Хурма                   Persimmon         4770.0   \n",
       "1                     Фейхоа                      Feijoa         4772.0   \n",
       "2                     Гранат                 Pomegranate         4760.0   \n",
       "3                   Апельсин                      Orange         4773.0   \n",
       "4  Вода Украины газированная   Water, Ukraine, sparkling         3457.0   \n",
       "\n",
       "                             productType_caption_UKR  \\\n",
       "0                 Тропічні фрукти - Хурма - Звичайна   \n",
       "1                        Тропічні фрукти - Екзотичні   \n",
       "2               Тропічні фрукти - Гранат - Звичайний   \n",
       "3            Цитрусові фрукти - Апельсин - Звичайний   \n",
       "4  Лікувально-столова вода - Україна - ПЕТ - від ...   \n",
       "\n",
       "                              productType_caption_RU  \\\n",
       "0               Тропические фрукты - Хурма - Обычная   \n",
       "1                  Тропические фрукты - Экзотические   \n",
       "2              Тропические фрукты - Гранат - Обычный   \n",
       "3             Цитрусовые фрукты - Апельсин - Обычный   \n",
       "4  Лечебно-столовая вода - Украина - ПЭТ - от 1л ...   \n",
       "\n",
       "                             productType_caption_ENG  brandId  \\\n",
       "0                 Tropical fruit — Persimmon — Plain      NaN   \n",
       "1                            Tropical fruit — Exotic      NaN   \n",
       "2                Tropical fruit — Pomegranate— Plain      NaN   \n",
       "3                      Citrus fruit — Orange — Plain      NaN   \n",
       "4  Therapeutic-table water — Ukraine — PET — from...   1241.0   \n",
       "\n",
       "   lagerUnitQuantity  lagerUnitTypeId lagerUnitType_caption  trademark  \\\n",
       "0                1.0                1            г                 NaN   \n",
       "1                1.0                1            г                 NaN   \n",
       "2                1.0                1            г                 NaN   \n",
       "3                1.0                2            кг                NaN   \n",
       "4                1.5                3            л              3670.0   \n",
       "\n",
       "   countryOfOrigin countryOfOrigin_caption  commodity_group  \\\n",
       "0              NaN                     NaN          5551018   \n",
       "1              NaN                     NaN          5551018   \n",
       "2              NaN                     NaN          5551018   \n",
       "3              8.0                 Іспанія          5551018   \n",
       "4              1.0                 Україна          5550022   \n",
       "\n",
       "  commodity_group_caption_UKR commodity_group_caption_RU  \\\n",
       "0             Фрукти тропічні         Фрукты тропические   \n",
       "1             Фрукти тропічні         Фрукты тропические   \n",
       "2             Фрукти тропічні         Фрукты тропические   \n",
       "3             Фрукти тропічні         Фрукты тропические   \n",
       "4             Вода Мфнеральна           Вода Минеральная   \n",
       "\n",
       "  commodity_group_caption_ENG  \n",
       "0             Tropical fruits  \n",
       "1             Tropical fruits  \n",
       "2             Tropical fruits  \n",
       "3             Tropical fruits  \n",
       "4               Mineral water  "
      ]
     },
     "execution_count": 3,
     "metadata": {},
     "output_type": "execute_result"
    }
   ],
   "source": [
    "df_sku=pd.read_csv('sku_final.csv')\n",
    "df_sku.head()"
   ]
  },
  {
   "cell_type": "code",
   "execution_count": 4,
   "metadata": {},
   "outputs": [
    {
     "data": {
      "text/html": [
       "<div>\n",
       "<style scoped>\n",
       "    .dataframe tbody tr th:only-of-type {\n",
       "        vertical-align: middle;\n",
       "    }\n",
       "\n",
       "    .dataframe tbody tr th {\n",
       "        vertical-align: top;\n",
       "    }\n",
       "\n",
       "    .dataframe thead th {\n",
       "        text-align: right;\n",
       "    }\n",
       "</style>\n",
       "<table border=\"1\" class=\"dataframe\">\n",
       "  <thead>\n",
       "    <tr style=\"text-align: right;\">\n",
       "      <th></th>\n",
       "      <th>SKU</th>\n",
       "      <th>productCategoryId</th>\n",
       "      <th>productCategory_caption_UKR</th>\n",
       "      <th>productCategory_caption_RU</th>\n",
       "      <th>productCategory_caption_ENG</th>\n",
       "      <th>productTypeId</th>\n",
       "      <th>productType_caption_UKR</th>\n",
       "      <th>productType_caption_RU</th>\n",
       "      <th>productType_caption_ENG</th>\n",
       "      <th>brandId</th>\n",
       "      <th>lagerUnitQuantity</th>\n",
       "      <th>lagerUnitTypeId</th>\n",
       "      <th>lagerUnitType_caption</th>\n",
       "      <th>trademark</th>\n",
       "      <th>countryOfOrigin</th>\n",
       "      <th>countryOfOrigin_caption</th>\n",
       "      <th>commodity_group</th>\n",
       "      <th>commodity_group_caption_UKR</th>\n",
       "      <th>commodity_group_caption_RU</th>\n",
       "      <th>commodity_group_caption_ENG</th>\n",
       "    </tr>\n",
       "  </thead>\n",
       "  <tbody>\n",
       "    <tr>\n",
       "      <td>0</td>\n",
       "      <td>17</td>\n",
       "      <td>5416.0</td>\n",
       "      <td>Хурма</td>\n",
       "      <td>Хурма</td>\n",
       "      <td>Persimmon</td>\n",
       "      <td>4770.0</td>\n",
       "      <td>Тропічні фрукти - Хурма - Звичайна</td>\n",
       "      <td>Тропические фрукты - Хурма - Обычная</td>\n",
       "      <td>Tropical fruit — Persimmon — Plain</td>\n",
       "      <td>NaN</td>\n",
       "      <td>1.0</td>\n",
       "      <td>1</td>\n",
       "      <td>г</td>\n",
       "      <td>NaN</td>\n",
       "      <td>NaN</td>\n",
       "      <td>NaN</td>\n",
       "      <td>5551018</td>\n",
       "      <td>Фрукти тропічні</td>\n",
       "      <td>Фрукты тропические</td>\n",
       "      <td>Tropical fruits</td>\n",
       "    </tr>\n",
       "    <tr>\n",
       "      <td>1</td>\n",
       "      <td>18</td>\n",
       "      <td>5413.0</td>\n",
       "      <td>Фейхоа</td>\n",
       "      <td>Фейхоа</td>\n",
       "      <td>Feijoa</td>\n",
       "      <td>4772.0</td>\n",
       "      <td>Тропічні фрукти - Екзотичні</td>\n",
       "      <td>Тропические фрукты - Экзотические</td>\n",
       "      <td>Tropical fruit — Exotic</td>\n",
       "      <td>NaN</td>\n",
       "      <td>1.0</td>\n",
       "      <td>1</td>\n",
       "      <td>г</td>\n",
       "      <td>NaN</td>\n",
       "      <td>NaN</td>\n",
       "      <td>NaN</td>\n",
       "      <td>5551018</td>\n",
       "      <td>Фрукти тропічні</td>\n",
       "      <td>Фрукты тропические</td>\n",
       "      <td>Tropical fruits</td>\n",
       "    </tr>\n",
       "    <tr>\n",
       "      <td>2</td>\n",
       "      <td>24</td>\n",
       "      <td>5425.0</td>\n",
       "      <td>Гранат</td>\n",
       "      <td>Гранат</td>\n",
       "      <td>Pomegranate</td>\n",
       "      <td>4760.0</td>\n",
       "      <td>Тропічні фрукти - Гранат - Звичайний</td>\n",
       "      <td>Тропические фрукты - Гранат - Обычный</td>\n",
       "      <td>Tropical fruit — Pomegranate— Plain</td>\n",
       "      <td>NaN</td>\n",
       "      <td>1.0</td>\n",
       "      <td>1</td>\n",
       "      <td>г</td>\n",
       "      <td>NaN</td>\n",
       "      <td>NaN</td>\n",
       "      <td>NaN</td>\n",
       "      <td>5551018</td>\n",
       "      <td>Фрукти тропічні</td>\n",
       "      <td>Фрукты тропические</td>\n",
       "      <td>Tropical fruits</td>\n",
       "    </tr>\n",
       "    <tr>\n",
       "      <td>3</td>\n",
       "      <td>25</td>\n",
       "      <td>5431.0</td>\n",
       "      <td>Апельсин</td>\n",
       "      <td>Апельсин</td>\n",
       "      <td>Orange</td>\n",
       "      <td>4773.0</td>\n",
       "      <td>Цитрусові фрукти - Апельсин - Звичайний</td>\n",
       "      <td>Цитрусовые фрукты - Апельсин - Обычный</td>\n",
       "      <td>Citrus fruit — Orange — Plain</td>\n",
       "      <td>NaN</td>\n",
       "      <td>1.0</td>\n",
       "      <td>2</td>\n",
       "      <td>кг</td>\n",
       "      <td>NaN</td>\n",
       "      <td>8.0</td>\n",
       "      <td>Іспанія</td>\n",
       "      <td>5551018</td>\n",
       "      <td>Фрукти тропічні</td>\n",
       "      <td>Фрукты тропические</td>\n",
       "      <td>Tropical fruits</td>\n",
       "    </tr>\n",
       "    <tr>\n",
       "      <td>4</td>\n",
       "      <td>208</td>\n",
       "      <td>5835.0</td>\n",
       "      <td>Вода України газована</td>\n",
       "      <td>Вода Украины газированная</td>\n",
       "      <td>Water, Ukraine, sparkling</td>\n",
       "      <td>3457.0</td>\n",
       "      <td>Лікувально-столова вода - Україна - ПЕТ - від ...</td>\n",
       "      <td>Лечебно-столовая вода - Украина - ПЭТ - от 1л ...</td>\n",
       "      <td>Therapeutic-table water — Ukraine — PET — from...</td>\n",
       "      <td>1241.0</td>\n",
       "      <td>1.5</td>\n",
       "      <td>3</td>\n",
       "      <td>л</td>\n",
       "      <td>3670.0</td>\n",
       "      <td>1.0</td>\n",
       "      <td>Україна</td>\n",
       "      <td>5550022</td>\n",
       "      <td>Вода Мфнеральна</td>\n",
       "      <td>Вода Минеральная</td>\n",
       "      <td>Mineral water</td>\n",
       "    </tr>\n",
       "  </tbody>\n",
       "</table>\n",
       "</div>"
      ],
      "text/plain": [
       "   SKU productCategoryId productCategory_caption_UKR  \\\n",
       "0   17            5416.0                       Хурма   \n",
       "1   18            5413.0                      Фейхоа   \n",
       "2   24            5425.0                      Гранат   \n",
       "3   25            5431.0                    Апельсин   \n",
       "4  208            5835.0       Вода України газована   \n",
       "\n",
       "  productCategory_caption_RU productCategory_caption_ENG productTypeId  \\\n",
       "0                      Хурма                   Persimmon        4770.0   \n",
       "1                     Фейхоа                      Feijoa        4772.0   \n",
       "2                     Гранат                 Pomegranate        4760.0   \n",
       "3                   Апельсин                      Orange        4773.0   \n",
       "4  Вода Украины газированная   Water, Ukraine, sparkling        3457.0   \n",
       "\n",
       "                             productType_caption_UKR  \\\n",
       "0                 Тропічні фрукти - Хурма - Звичайна   \n",
       "1                        Тропічні фрукти - Екзотичні   \n",
       "2               Тропічні фрукти - Гранат - Звичайний   \n",
       "3            Цитрусові фрукти - Апельсин - Звичайний   \n",
       "4  Лікувально-столова вода - Україна - ПЕТ - від ...   \n",
       "\n",
       "                              productType_caption_RU  \\\n",
       "0               Тропические фрукты - Хурма - Обычная   \n",
       "1                  Тропические фрукты - Экзотические   \n",
       "2              Тропические фрукты - Гранат - Обычный   \n",
       "3             Цитрусовые фрукты - Апельсин - Обычный   \n",
       "4  Лечебно-столовая вода - Украина - ПЭТ - от 1л ...   \n",
       "\n",
       "                             productType_caption_ENG  brandId  \\\n",
       "0                 Tropical fruit — Persimmon — Plain      NaN   \n",
       "1                            Tropical fruit — Exotic      NaN   \n",
       "2                Tropical fruit — Pomegranate— Plain      NaN   \n",
       "3                      Citrus fruit — Orange — Plain      NaN   \n",
       "4  Therapeutic-table water — Ukraine — PET — from...   1241.0   \n",
       "\n",
       "   lagerUnitQuantity  lagerUnitTypeId lagerUnitType_caption  trademark  \\\n",
       "0                1.0                1            г                 NaN   \n",
       "1                1.0                1            г                 NaN   \n",
       "2                1.0                1            г                 NaN   \n",
       "3                1.0                2            кг                NaN   \n",
       "4                1.5                3            л              3670.0   \n",
       "\n",
       "   countryOfOrigin countryOfOrigin_caption  commodity_group  \\\n",
       "0              NaN                     NaN          5551018   \n",
       "1              NaN                     NaN          5551018   \n",
       "2              NaN                     NaN          5551018   \n",
       "3              8.0                 Іспанія          5551018   \n",
       "4              1.0                 Україна          5550022   \n",
       "\n",
       "  commodity_group_caption_UKR commodity_group_caption_RU  \\\n",
       "0             Фрукти тропічні         Фрукты тропические   \n",
       "1             Фрукти тропічні         Фрукты тропические   \n",
       "2             Фрукти тропічні         Фрукты тропические   \n",
       "3             Фрукти тропічні         Фрукты тропические   \n",
       "4             Вода Мфнеральна           Вода Минеральная   \n",
       "\n",
       "  commodity_group_caption_ENG  \n",
       "0             Tropical fruits  \n",
       "1             Tropical fruits  \n",
       "2             Tropical fruits  \n",
       "3             Tropical fruits  \n",
       "4               Mineral water  "
      ]
     },
     "execution_count": 4,
     "metadata": {},
     "output_type": "execute_result"
    }
   ],
   "source": [
    "df_sku[['productCategoryId','productTypeId']]=df_sku[['productCategoryId','productTypeId']].apply(lambda x: x.astype(str))\n",
    "df_sku.head()"
   ]
  },
  {
   "cell_type": "code",
   "execution_count": 5,
   "metadata": {},
   "outputs": [
    {
     "data": {
      "text/html": [
       "<div>\n",
       "<style scoped>\n",
       "    .dataframe tbody tr th:only-of-type {\n",
       "        vertical-align: middle;\n",
       "    }\n",
       "\n",
       "    .dataframe tbody tr th {\n",
       "        vertical-align: top;\n",
       "    }\n",
       "\n",
       "    .dataframe thead th {\n",
       "        text-align: right;\n",
       "    }\n",
       "</style>\n",
       "<table border=\"1\" class=\"dataframe\">\n",
       "  <thead>\n",
       "    <tr style=\"text-align: right;\">\n",
       "      <th></th>\n",
       "      <th>ID</th>\n",
       "      <th>geoCluster</th>\n",
       "      <th>SKU</th>\n",
       "      <th>date</th>\n",
       "      <th>price</th>\n",
       "      <th>sales</th>\n",
       "    </tr>\n",
       "  </thead>\n",
       "  <tbody>\n",
       "    <tr>\n",
       "      <td>0</td>\n",
       "      <td>RR27956447</td>\n",
       "      <td>21</td>\n",
       "      <td>32485</td>\n",
       "      <td>2021-07-08</td>\n",
       "      <td>39.69</td>\n",
       "      <td>0.9</td>\n",
       "    </tr>\n",
       "    <tr>\n",
       "      <td>1</td>\n",
       "      <td>RR27956448</td>\n",
       "      <td>21</td>\n",
       "      <td>32485</td>\n",
       "      <td>2021-07-09</td>\n",
       "      <td>NaN</td>\n",
       "      <td>0.0</td>\n",
       "    </tr>\n",
       "    <tr>\n",
       "      <td>2</td>\n",
       "      <td>RR27956449</td>\n",
       "      <td>21</td>\n",
       "      <td>32485</td>\n",
       "      <td>2021-07-10</td>\n",
       "      <td>NaN</td>\n",
       "      <td>0.0</td>\n",
       "    </tr>\n",
       "    <tr>\n",
       "      <td>3</td>\n",
       "      <td>RR27956450</td>\n",
       "      <td>21</td>\n",
       "      <td>32485</td>\n",
       "      <td>2021-07-11</td>\n",
       "      <td>NaN</td>\n",
       "      <td>0.0</td>\n",
       "    </tr>\n",
       "    <tr>\n",
       "      <td>4</td>\n",
       "      <td>RR27956451</td>\n",
       "      <td>21</td>\n",
       "      <td>32485</td>\n",
       "      <td>2021-07-12</td>\n",
       "      <td>NaN</td>\n",
       "      <td>0.0</td>\n",
       "    </tr>\n",
       "  </tbody>\n",
       "</table>\n",
       "</div>"
      ],
      "text/plain": [
       "           ID  geoCluster    SKU       date  price  sales\n",
       "0  RR27956447          21  32485 2021-07-08  39.69    0.9\n",
       "1  RR27956448          21  32485 2021-07-09    NaN    0.0\n",
       "2  RR27956449          21  32485 2021-07-10    NaN    0.0\n",
       "3  RR27956450          21  32485 2021-07-11    NaN    0.0\n",
       "4  RR27956451          21  32485 2021-07-12    NaN    0.0"
      ]
     },
     "execution_count": 5,
     "metadata": {},
     "output_type": "execute_result"
    }
   ],
   "source": [
    "df=pd.read_csv('train_final.csv')\n",
    "df['date']=pd.to_datetime(df['date'])\n",
    "df['sales'].fillna(0,inplace=True)\n",
    "df.head()"
   ]
  },
  {
   "cell_type": "code",
   "execution_count": 8,
   "metadata": {},
   "outputs": [
    {
     "name": "stdout",
     "output_type": "stream",
     "text": [
      "train (24476696, 6)\n",
      "valid (3479749, 6)\n"
     ]
    }
   ],
   "source": [
    "# df_valid=df[df.date>= pd.to_datetime('2021-06-19')].copy()\n",
    "# df=df[df.date< pd.to_datetime('2021-06-19')]\n",
    "\n",
    "# df['sales'].fillna(0,inplace=True)\n",
    "# df_valid['sales'].fillna(0,inplace=True)\n",
    "\n",
    "# print('train',df.shape)\n",
    "# print('valid',df_valid.shape)"
   ]
  },
  {
   "cell_type": "code",
   "execution_count": 11,
   "metadata": {},
   "outputs": [],
   "source": [
    "# df['sales'].fillna(0,inplace=True)\n",
    "# df_valid['sales'].fillna(0,inplace=True)"
   ]
  },
  {
   "cell_type": "code",
   "execution_count": 6,
   "metadata": {},
   "outputs": [
    {
     "data": {
      "text/plain": [
       "ID                   0\n",
       "geoCluster           0\n",
       "SKU                  0\n",
       "date                 0\n",
       "price         25975058\n",
       "sales                0\n",
       "dtype: int64"
      ]
     },
     "execution_count": 6,
     "metadata": {},
     "output_type": "execute_result"
    }
   ],
   "source": [
    "df.isnull().sum()"
   ]
  },
  {
   "cell_type": "markdown",
   "metadata": {},
   "source": [
    "**avg sales by shop**"
   ]
  },
  {
   "cell_type": "markdown",
   "metadata": {},
   "source": [
    "create price dict"
   ]
  },
  {
   "cell_type": "code",
   "execution_count": 7,
   "metadata": {},
   "outputs": [],
   "source": [
    "def calc_avg_price(df):\n",
    "    #impute price as average by days before\n",
    "    \n",
    "    price_dict=df[~df.price.isnull()].copy()\n",
    "    date_list=price_dict.sort_values('date').date.unique()\n",
    "    \n",
    "    df_res=pd.DataFrame()\n",
    "    for ind_date,date_obs in enumerate(date_list):\n",
    "        \n",
    "        if ind_date%50==0:\n",
    "            print('iter #',ind_date,date_obs)\n",
    "        \n",
    "        price_dict_filter=price_dict[price_dict.date<date_obs].copy()\n",
    "        \n",
    "        \n",
    "        price_agr=price_dict_filter.groupby(['geoCluster','SKU']).price.mean().reset_index()\n",
    "        price_agr['date']=date_obs\n",
    "        df_res=df_res.append(price_agr)\n",
    "        \n",
    "    df_res['price'].fillna(0,inplace=True)\n",
    "    \n",
    "    return(df_res)"
   ]
  },
  {
   "cell_type": "code",
   "execution_count": 8,
   "metadata": {},
   "outputs": [],
   "source": [
    "def imput_price_by_avg(df):\n",
    "    \n",
    "    price_dict=calc_avg_price(df)\n",
    "    \n",
    "    df_price_null=df[df.price.isnull()].drop(['price'],axis=1).copy()\n",
    "    df=df[~df.price.isnull()]\n",
    "\n",
    "    df_price_null=df_price_null.merge(price_dict,on=['geoCluster','SKU','date'],how='left')\n",
    "    df_price_null['price'].fillna(0,inplace=True)\n",
    "\n",
    "    df=df.append(df_price_null)\n",
    "    \n",
    "    df=df.sort_values(by=['date','geoCluster'])\n",
    "    \n",
    "    return (df)"
   ]
  },
  {
   "cell_type": "code",
   "execution_count": 9,
   "metadata": {},
   "outputs": [],
   "source": [
    "def calc_avg_shop_rev(df):\n",
    "    \n",
    "    \n",
    "    \n",
    "    df['rev']=df['price']*df['sales']\n",
    "    \n",
    "    #total revenue by shop,date\n",
    "    shop_sales_date=df.groupby(['geoCluster','date']).rev.sum().reset_index()\n",
    "    shop_sales_date=shop_sales_date.sort_values(by=['date','geoCluster'])\n",
    "    shop_sales_date.reset_index(drop=True,inplace=True)\n",
    "    \n",
    "    shop_sales_date_agr=pd.DataFrame()\n",
    "\n",
    "    #calc exponential windows average\n",
    "    for ind_shop,shop in enumerate( shop_sales_date.geoCluster.unique() ) :\n",
    "\n",
    "        if ind_shop%50==0:\n",
    "            print('iter #',ind_shop)\n",
    "\n",
    "        shop_sales_date_temp=shop_sales_date[shop_sales_date.geoCluster==shop].copy()\n",
    "        \n",
    "        shop_sales_date_temp['shop_ewm_30']=shop_sales_date_temp.rev.rolling(window=60).mean()\n",
    "        shop_sales_date_temp['shop_ewm_60']=shop_sales_date_temp.rev.rolling(window=90).mean()\n",
    "        shop_sales_date_temp['shop_ewm_90']=shop_sales_date_temp.rev.rolling(window=120).mean()\n",
    "\n",
    "        shop_sales_date_agr=shop_sales_date_agr.append(shop_sales_date_temp)\n",
    "    \n",
    "    return(shop_sales_date_agr)"
   ]
  },
  {
   "cell_type": "markdown",
   "metadata": {},
   "source": [
    "**avg sales by shop**"
   ]
  },
  {
   "cell_type": "markdown",
   "metadata": {},
   "source": [
    "**avg sales by SKU,shop**"
   ]
  },
  {
   "cell_type": "code",
   "execution_count": 9,
   "metadata": {},
   "outputs": [],
   "source": [
    "# shop_sales_sku_date=df.groupby(['geoCluster','SKU', 'date']).rev.sum().reset_index()\n",
    "# shop_sales_sku_date.head()"
   ]
  },
  {
   "cell_type": "code",
   "execution_count": null,
   "metadata": {},
   "outputs": [],
   "source": []
  },
  {
   "cell_type": "code",
   "execution_count": null,
   "metadata": {},
   "outputs": [],
   "source": []
  },
  {
   "cell_type": "markdown",
   "metadata": {},
   "source": [
    "**day of week, month**"
   ]
  },
  {
   "cell_type": "code",
   "execution_count": 10,
   "metadata": {},
   "outputs": [],
   "source": [
    "def transform_dweek(df):\n",
    "\n",
    "    df['wkday']=df['date'].dt.dayofweek\n",
    "    df['month_date']=df['date'].dt.month\n",
    "\n",
    "\n",
    "    df['Monday'] = np.where(df['wkday']== 0, 1, 0)\n",
    "    df['Tuesday'] = np.where(df['wkday']== 1, 1, 0)\n",
    "    df['Wednesday'] = np.where(df['wkday']== 2, 1, 0)\n",
    "    df['Thursday'] = np.where(df['wkday']== 3, 1, 0)\n",
    "    df['Friday'] = np.where(df['wkday']== 4, 1, 0)\n",
    "    df['Saturday'] = np.where(df['wkday']== 5, 1, 0)\n",
    "    df['Sunday'] = np.where(df['wkday']== 6, 1, 0)\n",
    "\n",
    "\n",
    "    df['Jan'] = np.where(df['month_date']== 1, 1, 0)\n",
    "    df['Feb'] = np.where(df['month_date']== 2, 1, 0)\n",
    "    df['Mar'] = np.where(df['month_date']== 3, 1, 0)\n",
    "    df['Apr'] = np.where(df['month_date']== 4, 1, 0)\n",
    "    df['May'] = np.where(df['month_date']== 5, 1, 0)\n",
    "    df['Jun'] = np.where(df['month_date']== 6, 1, 0)\n",
    "    df['Jul'] = np.where(df['month_date']== 7, 1, 0)\n",
    "    df['Aug'] = np.where(df['month_date']== 8, 1, 0)\n",
    "    df['Sep'] = np.where(df['month_date']== 9, 1, 0)\n",
    "    df['Oct'] = np.where(df['month_date']== 10, 1, 0)\n",
    "    df['Nov'] = np.where(df['month_date']== 11, 1, 0)\n",
    "    df['Dec'] = np.where(df['month_date']== 12, 1, 0)\n",
    "\n",
    "    return(df)"
   ]
  },
  {
   "cell_type": "code",
   "execution_count": 11,
   "metadata": {},
   "outputs": [],
   "source": [
    "def transform_dataframe(df):\n",
    "    \n",
    "    \n",
    "    df=imput_price_by_avg(df)\n",
    "    \n",
    "    \n",
    "    shop_sales_date_agr=calc_avg_shop_rev(df)\n",
    "    df=df.merge(shop_sales_date_agr.drop(['rev'],axis=1)  , on =['geoCluster','date'] , how='left')\n",
    "    \n",
    "    df=transform_dweek(df)\n",
    "    \n",
    "    #add city\n",
    "    df=df.merge(df_geo, on=['geoCluster'])\n",
    "    \n",
    "    #add product category\n",
    "    df=df.merge( df_sku[['SKU','productCategoryId','productTypeId']], on='SKU',how='left'  )\n",
    "    \n",
    "    \n",
    "    return (df)\n",
    "    \n",
    "    "
   ]
  },
  {
   "cell_type": "code",
   "execution_count": 12,
   "metadata": {},
   "outputs": [
    {
     "name": "stdout",
     "output_type": "stream",
     "text": [
      "iter # 0 2020-01-03T00:00:00.000000000\n",
      "iter # 50 2020-04-16T00:00:00.000000000\n",
      "iter # 100 2020-06-05T00:00:00.000000000\n",
      "iter # 150 2020-07-25T00:00:00.000000000\n",
      "iter # 200 2020-09-13T00:00:00.000000000\n",
      "iter # 250 2020-11-02T00:00:00.000000000\n",
      "iter # 300 2020-12-22T00:00:00.000000000\n",
      "iter # 350 2021-02-10T00:00:00.000000000\n",
      "iter # 400 2021-04-01T00:00:00.000000000\n",
      "iter # 450 2021-05-21T00:00:00.000000000\n",
      "iter # 500 2021-07-10T00:00:00.000000000\n"
     ]
    },
    {
     "name": "stderr",
     "output_type": "stream",
     "text": [
      "C:\\Users\\dalap\\Anaconda3\\lib\\site-packages\\pandas\\core\\frame.py:7123: FutureWarning: Sorting because non-concatenation axis is not aligned. A future version\n",
      "of pandas will change to not sort by default.\n",
      "\n",
      "To accept the future behavior, pass 'sort=False'.\n",
      "\n",
      "To retain the current behavior and silence the warning, pass 'sort=True'.\n",
      "\n",
      "  sort=sort,\n"
     ]
    },
    {
     "name": "stdout",
     "output_type": "stream",
     "text": [
      "iter # 0\n",
      "iter # 50\n",
      "iter # 100\n",
      "iter # 150\n",
      "iter # 200\n",
      "iter # 250\n",
      "iter # 300\n",
      "iter # 350\n",
      "iter # 400\n",
      "iter # 450\n",
      "iter # 500\n"
     ]
    },
    {
     "data": {
      "text/html": [
       "<div>\n",
       "<style scoped>\n",
       "    .dataframe tbody tr th:only-of-type {\n",
       "        vertical-align: middle;\n",
       "    }\n",
       "\n",
       "    .dataframe tbody tr th {\n",
       "        vertical-align: top;\n",
       "    }\n",
       "\n",
       "    .dataframe thead th {\n",
       "        text-align: right;\n",
       "    }\n",
       "</style>\n",
       "<table border=\"1\" class=\"dataframe\">\n",
       "  <thead>\n",
       "    <tr style=\"text-align: right;\">\n",
       "      <th></th>\n",
       "      <th>ID</th>\n",
       "      <th>SKU</th>\n",
       "      <th>date</th>\n",
       "      <th>geoCluster</th>\n",
       "      <th>price</th>\n",
       "      <th>sales</th>\n",
       "      <th>rev</th>\n",
       "      <th>shop_ewm_30</th>\n",
       "      <th>shop_ewm_60</th>\n",
       "      <th>shop_ewm_90</th>\n",
       "      <th>...</th>\n",
       "      <th>Jun</th>\n",
       "      <th>Jul</th>\n",
       "      <th>Aug</th>\n",
       "      <th>Sep</th>\n",
       "      <th>Oct</th>\n",
       "      <th>Nov</th>\n",
       "      <th>Dec</th>\n",
       "      <th>cityId</th>\n",
       "      <th>productCategoryId</th>\n",
       "      <th>productTypeId</th>\n",
       "    </tr>\n",
       "  </thead>\n",
       "  <tbody>\n",
       "    <tr>\n",
       "      <td>0</td>\n",
       "      <td>RR31410732</td>\n",
       "      <td>808191</td>\n",
       "      <td>2020-01-01</td>\n",
       "      <td>1934</td>\n",
       "      <td>0.0</td>\n",
       "      <td>0.0</td>\n",
       "      <td>0.0</td>\n",
       "      <td>NaN</td>\n",
       "      <td>NaN</td>\n",
       "      <td>NaN</td>\n",
       "      <td>...</td>\n",
       "      <td>0</td>\n",
       "      <td>0</td>\n",
       "      <td>0</td>\n",
       "      <td>0</td>\n",
       "      <td>0</td>\n",
       "      <td>0</td>\n",
       "      <td>0</td>\n",
       "      <td>0</td>\n",
       "      <td>5922.0</td>\n",
       "      <td>400.0</td>\n",
       "    </tr>\n",
       "    <tr>\n",
       "      <td>1</td>\n",
       "      <td>RR31422526</td>\n",
       "      <td>844052</td>\n",
       "      <td>2020-01-01</td>\n",
       "      <td>1934</td>\n",
       "      <td>0.0</td>\n",
       "      <td>0.0</td>\n",
       "      <td>0.0</td>\n",
       "      <td>NaN</td>\n",
       "      <td>NaN</td>\n",
       "      <td>NaN</td>\n",
       "      <td>...</td>\n",
       "      <td>0</td>\n",
       "      <td>0</td>\n",
       "      <td>0</td>\n",
       "      <td>0</td>\n",
       "      <td>0</td>\n",
       "      <td>0</td>\n",
       "      <td>0</td>\n",
       "      <td>0</td>\n",
       "      <td>5922.0</td>\n",
       "      <td>400.0</td>\n",
       "    </tr>\n",
       "    <tr>\n",
       "      <td>2</td>\n",
       "      <td>RR31410733</td>\n",
       "      <td>808191</td>\n",
       "      <td>2020-01-02</td>\n",
       "      <td>1934</td>\n",
       "      <td>0.0</td>\n",
       "      <td>0.0</td>\n",
       "      <td>0.0</td>\n",
       "      <td>NaN</td>\n",
       "      <td>NaN</td>\n",
       "      <td>NaN</td>\n",
       "      <td>...</td>\n",
       "      <td>0</td>\n",
       "      <td>0</td>\n",
       "      <td>0</td>\n",
       "      <td>0</td>\n",
       "      <td>0</td>\n",
       "      <td>0</td>\n",
       "      <td>0</td>\n",
       "      <td>0</td>\n",
       "      <td>5922.0</td>\n",
       "      <td>400.0</td>\n",
       "    </tr>\n",
       "    <tr>\n",
       "      <td>3</td>\n",
       "      <td>RR31422527</td>\n",
       "      <td>844052</td>\n",
       "      <td>2020-01-02</td>\n",
       "      <td>1934</td>\n",
       "      <td>0.0</td>\n",
       "      <td>0.0</td>\n",
       "      <td>0.0</td>\n",
       "      <td>NaN</td>\n",
       "      <td>NaN</td>\n",
       "      <td>NaN</td>\n",
       "      <td>...</td>\n",
       "      <td>0</td>\n",
       "      <td>0</td>\n",
       "      <td>0</td>\n",
       "      <td>0</td>\n",
       "      <td>0</td>\n",
       "      <td>0</td>\n",
       "      <td>0</td>\n",
       "      <td>0</td>\n",
       "      <td>5922.0</td>\n",
       "      <td>400.0</td>\n",
       "    </tr>\n",
       "    <tr>\n",
       "      <td>4</td>\n",
       "      <td>RR31410734</td>\n",
       "      <td>808191</td>\n",
       "      <td>2020-01-03</td>\n",
       "      <td>1934</td>\n",
       "      <td>0.0</td>\n",
       "      <td>0.0</td>\n",
       "      <td>0.0</td>\n",
       "      <td>NaN</td>\n",
       "      <td>NaN</td>\n",
       "      <td>NaN</td>\n",
       "      <td>...</td>\n",
       "      <td>0</td>\n",
       "      <td>0</td>\n",
       "      <td>0</td>\n",
       "      <td>0</td>\n",
       "      <td>0</td>\n",
       "      <td>0</td>\n",
       "      <td>0</td>\n",
       "      <td>0</td>\n",
       "      <td>5922.0</td>\n",
       "      <td>400.0</td>\n",
       "    </tr>\n",
       "  </tbody>\n",
       "</table>\n",
       "<p>5 rows × 34 columns</p>\n",
       "</div>"
      ],
      "text/plain": [
       "           ID     SKU       date  geoCluster  price  sales  rev  shop_ewm_30  \\\n",
       "0  RR31410732  808191 2020-01-01        1934    0.0    0.0  0.0          NaN   \n",
       "1  RR31422526  844052 2020-01-01        1934    0.0    0.0  0.0          NaN   \n",
       "2  RR31410733  808191 2020-01-02        1934    0.0    0.0  0.0          NaN   \n",
       "3  RR31422527  844052 2020-01-02        1934    0.0    0.0  0.0          NaN   \n",
       "4  RR31410734  808191 2020-01-03        1934    0.0    0.0  0.0          NaN   \n",
       "\n",
       "   shop_ewm_60  shop_ewm_90  ...  Jun  Jul  Aug  Sep  Oct  Nov  Dec  cityId  \\\n",
       "0          NaN          NaN  ...    0    0    0    0    0    0    0       0   \n",
       "1          NaN          NaN  ...    0    0    0    0    0    0    0       0   \n",
       "2          NaN          NaN  ...    0    0    0    0    0    0    0       0   \n",
       "3          NaN          NaN  ...    0    0    0    0    0    0    0       0   \n",
       "4          NaN          NaN  ...    0    0    0    0    0    0    0       0   \n",
       "\n",
       "   productCategoryId  productTypeId  \n",
       "0             5922.0          400.0  \n",
       "1             5922.0          400.0  \n",
       "2             5922.0          400.0  \n",
       "3             5922.0          400.0  \n",
       "4             5922.0          400.0  \n",
       "\n",
       "[5 rows x 34 columns]"
      ]
     },
     "execution_count": 12,
     "metadata": {},
     "output_type": "execute_result"
    }
   ],
   "source": [
    "df=transform_dataframe(df)\n",
    "df.head()"
   ]
  },
  {
   "cell_type": "code",
   "execution_count": 13,
   "metadata": {},
   "outputs": [
    {
     "name": "stdout",
     "output_type": "stream",
     "text": [
      "(27956445, 34)\n"
     ]
    }
   ],
   "source": [
    "print(df.shape)"
   ]
  },
  {
   "cell_type": "code",
   "execution_count": 15,
   "metadata": {},
   "outputs": [
    {
     "data": {
      "text/plain": [
       "ID                   0.000000\n",
       "SKU                  0.000000\n",
       "date                 0.000000\n",
       "geoCluster           0.000000\n",
       "price                0.000000\n",
       "sales                0.000000\n",
       "rev                  0.000000\n",
       "shop_ewm_30          0.034899\n",
       "shop_ewm_60          0.063873\n",
       "shop_ewm_90          0.095860\n",
       "wkday                0.000000\n",
       "month_date           0.000000\n",
       "Monday               0.000000\n",
       "Tuesday              0.000000\n",
       "Wednesday            0.000000\n",
       "Thursday             0.000000\n",
       "Friday               0.000000\n",
       "Saturday             0.000000\n",
       "Sunday               0.000000\n",
       "Jan                  0.000000\n",
       "Feb                  0.000000\n",
       "Mar                  0.000000\n",
       "Apr                  0.000000\n",
       "May                  0.000000\n",
       "Jun                  0.000000\n",
       "Jul                  0.000000\n",
       "Aug                  0.000000\n",
       "Sep                  0.000000\n",
       "Oct                  0.000000\n",
       "Nov                  0.000000\n",
       "Dec                  0.000000\n",
       "cityId               0.000000\n",
       "productCategoryId    0.000000\n",
       "productTypeId        0.000000\n",
       "dtype: float64"
      ]
     },
     "execution_count": 15,
     "metadata": {},
     "output_type": "execute_result"
    }
   ],
   "source": [
    "df.isnull().sum()/len(df)"
   ]
  },
  {
   "cell_type": "code",
   "execution_count": 19,
   "metadata": {},
   "outputs": [
    {
     "data": {
      "text/plain": [
       "Index(['ID', 'geoCluster', 'SKU', 'date', 'price', 'sales', 'rev',\n",
       "       'shop_ewm_30', 'shop_ewm_60', 'shop_ewm_90', 'wkday', 'month_date',\n",
       "       'Monday', 'Tuesday', 'Wednesday', 'Thursday', 'Friday', 'Saturday',\n",
       "       'Sunday', 'Jan', 'Feb', 'Mar', 'Apr', 'May', 'Jun', 'Jul', 'Aug', 'Sep',\n",
       "       'Oct', 'Nov', 'Dec', 'cityId', 'productCategoryId', 'productTypeId'],\n",
       "      dtype='object')"
      ]
     },
     "execution_count": 19,
     "metadata": {},
     "output_type": "execute_result"
    }
   ],
   "source": [
    "df.columns"
   ]
  },
  {
   "cell_type": "code",
   "execution_count": 20,
   "metadata": {},
   "outputs": [
    {
     "data": {
      "text/plain": [
       "ID                           object\n",
       "geoCluster                    int64\n",
       "SKU                           int64\n",
       "date                 datetime64[ns]\n",
       "price                       float64\n",
       "sales                       float64\n",
       "rev                         float64\n",
       "shop_ewm_30                 float64\n",
       "shop_ewm_60                 float64\n",
       "shop_ewm_90                 float64\n",
       "wkday                         int64\n",
       "month_date                    int64\n",
       "Monday                        int64\n",
       "Tuesday                       int64\n",
       "Wednesday                     int64\n",
       "Thursday                      int64\n",
       "Friday                        int64\n",
       "Saturday                      int64\n",
       "Sunday                        int64\n",
       "Jan                           int64\n",
       "Feb                           int64\n",
       "Mar                           int64\n",
       "Apr                           int64\n",
       "May                           int64\n",
       "Jun                           int64\n",
       "Jul                           int64\n",
       "Aug                           int64\n",
       "Sep                           int64\n",
       "Oct                           int64\n",
       "Nov                           int64\n",
       "Dec                           int64\n",
       "cityId                        int64\n",
       "productCategoryId            object\n",
       "productTypeId                object\n",
       "dtype: object"
      ]
     },
     "execution_count": 20,
     "metadata": {},
     "output_type": "execute_result"
    }
   ],
   "source": [
    "df.iloc[:1,:].dtypes"
   ]
  },
  {
   "cell_type": "code",
   "execution_count": 21,
   "metadata": {},
   "outputs": [],
   "source": [
    "\n",
    "#df[['geoCluster','SKU','cityId']]=df[['geoCluster','SKU','cityId']].apply(lambda x:x.astype(str))"
   ]
  },
  {
   "cell_type": "code",
   "execution_count": null,
   "metadata": {},
   "outputs": [],
   "source": [
    "#df['geoCluster']=df['geoCluster'].astype(str)"
   ]
  },
  {
   "cell_type": "code",
   "execution_count": 22,
   "metadata": {},
   "outputs": [
    {
     "data": {
      "text/plain": [
       "(array([ 0,  1, 24, 25, 26]),)"
      ]
     },
     "execution_count": 22,
     "metadata": {},
     "output_type": "execute_result"
    }
   ],
   "source": [
    "# col_ind=np.where( df.iloc[:5,:].drop([ 'ID', 'date', 'price','sales', 'month_date', 'wkday','rev'],axis=1).dtypes==object)\n",
    "# col_ind"
   ]
  },
  {
   "cell_type": "code",
   "execution_count": 23,
   "metadata": {},
   "outputs": [
    {
     "data": {
      "text/plain": [
       "Index(['ID', 'geoCluster', 'SKU', 'date', 'price', 'sales', 'rev',\n",
       "       'shop_ewm_30', 'shop_ewm_60', 'shop_ewm_90', 'wkday', 'month_date',\n",
       "       'Monday', 'Tuesday', 'Wednesday', 'Thursday', 'Friday', 'Saturday',\n",
       "       'Sunday', 'Jan', 'Feb', 'Mar', 'Apr', 'May', 'Jun', 'Jul', 'Aug', 'Sep',\n",
       "       'Oct', 'Nov', 'Dec', 'cityId', 'productCategoryId', 'productTypeId'],\n",
       "      dtype='object')"
      ]
     },
     "execution_count": 23,
     "metadata": {},
     "output_type": "execute_result"
    }
   ],
   "source": [
    "df.columns"
   ]
  },
  {
   "cell_type": "code",
   "execution_count": 24,
   "metadata": {},
   "outputs": [
    {
     "data": {
      "text/html": [
       "<div>\n",
       "<style scoped>\n",
       "    .dataframe tbody tr th:only-of-type {\n",
       "        vertical-align: middle;\n",
       "    }\n",
       "\n",
       "    .dataframe tbody tr th {\n",
       "        vertical-align: top;\n",
       "    }\n",
       "\n",
       "    .dataframe thead th {\n",
       "        text-align: right;\n",
       "    }\n",
       "</style>\n",
       "<table border=\"1\" class=\"dataframe\">\n",
       "  <thead>\n",
       "    <tr style=\"text-align: right;\">\n",
       "      <th></th>\n",
       "      <th>geoCluster</th>\n",
       "      <th>SKU</th>\n",
       "      <th>shop_ewm_30</th>\n",
       "      <th>shop_ewm_60</th>\n",
       "      <th>shop_ewm_90</th>\n",
       "      <th>Monday</th>\n",
       "      <th>Tuesday</th>\n",
       "      <th>Wednesday</th>\n",
       "      <th>Thursday</th>\n",
       "      <th>Friday</th>\n",
       "      <th>...</th>\n",
       "      <th>Jun</th>\n",
       "      <th>Jul</th>\n",
       "      <th>Aug</th>\n",
       "      <th>Sep</th>\n",
       "      <th>Oct</th>\n",
       "      <th>Nov</th>\n",
       "      <th>Dec</th>\n",
       "      <th>cityId</th>\n",
       "      <th>productCategoryId</th>\n",
       "      <th>productTypeId</th>\n",
       "    </tr>\n",
       "  </thead>\n",
       "  <tbody>\n",
       "    <tr>\n",
       "      <th>0</th>\n",
       "      <td>21</td>\n",
       "      <td>32485</td>\n",
       "      <td>34.960284</td>\n",
       "      <td>38.905272</td>\n",
       "      <td>42.497374</td>\n",
       "      <td>0</td>\n",
       "      <td>0</td>\n",
       "      <td>0</td>\n",
       "      <td>1</td>\n",
       "      <td>0</td>\n",
       "      <td>...</td>\n",
       "      <td>0</td>\n",
       "      <td>1</td>\n",
       "      <td>0</td>\n",
       "      <td>0</td>\n",
       "      <td>0</td>\n",
       "      <td>0</td>\n",
       "      <td>0</td>\n",
       "      <td>1</td>\n",
       "      <td>5381.0</td>\n",
       "      <td>4752.0</td>\n",
       "    </tr>\n",
       "    <tr>\n",
       "      <th>1</th>\n",
       "      <td>21</td>\n",
       "      <td>32485</td>\n",
       "      <td>32.674837</td>\n",
       "      <td>37.464691</td>\n",
       "      <td>41.275069</td>\n",
       "      <td>0</td>\n",
       "      <td>0</td>\n",
       "      <td>0</td>\n",
       "      <td>0</td>\n",
       "      <td>1</td>\n",
       "      <td>...</td>\n",
       "      <td>0</td>\n",
       "      <td>1</td>\n",
       "      <td>0</td>\n",
       "      <td>0</td>\n",
       "      <td>0</td>\n",
       "      <td>0</td>\n",
       "      <td>0</td>\n",
       "      <td>1</td>\n",
       "      <td>5381.0</td>\n",
       "      <td>4752.0</td>\n",
       "    </tr>\n",
       "    <tr>\n",
       "      <th>2</th>\n",
       "      <td>21</td>\n",
       "      <td>32485</td>\n",
       "      <td>30.540623</td>\n",
       "      <td>36.083310</td>\n",
       "      <td>40.095920</td>\n",
       "      <td>0</td>\n",
       "      <td>0</td>\n",
       "      <td>0</td>\n",
       "      <td>0</td>\n",
       "      <td>0</td>\n",
       "      <td>...</td>\n",
       "      <td>0</td>\n",
       "      <td>1</td>\n",
       "      <td>0</td>\n",
       "      <td>0</td>\n",
       "      <td>0</td>\n",
       "      <td>0</td>\n",
       "      <td>0</td>\n",
       "      <td>1</td>\n",
       "      <td>5381.0</td>\n",
       "      <td>4752.0</td>\n",
       "    </tr>\n",
       "    <tr>\n",
       "      <th>3</th>\n",
       "      <td>21</td>\n",
       "      <td>32485</td>\n",
       "      <td>28.547405</td>\n",
       "      <td>34.758276</td>\n",
       "      <td>38.957955</td>\n",
       "      <td>0</td>\n",
       "      <td>0</td>\n",
       "      <td>0</td>\n",
       "      <td>0</td>\n",
       "      <td>0</td>\n",
       "      <td>...</td>\n",
       "      <td>0</td>\n",
       "      <td>1</td>\n",
       "      <td>0</td>\n",
       "      <td>0</td>\n",
       "      <td>0</td>\n",
       "      <td>0</td>\n",
       "      <td>0</td>\n",
       "      <td>1</td>\n",
       "      <td>5381.0</td>\n",
       "      <td>4752.0</td>\n",
       "    </tr>\n",
       "    <tr>\n",
       "      <th>4</th>\n",
       "      <td>21</td>\n",
       "      <td>32485</td>\n",
       "      <td>26.685666</td>\n",
       "      <td>33.486901</td>\n",
       "      <td>37.859322</td>\n",
       "      <td>1</td>\n",
       "      <td>0</td>\n",
       "      <td>0</td>\n",
       "      <td>0</td>\n",
       "      <td>0</td>\n",
       "      <td>...</td>\n",
       "      <td>0</td>\n",
       "      <td>1</td>\n",
       "      <td>0</td>\n",
       "      <td>0</td>\n",
       "      <td>0</td>\n",
       "      <td>0</td>\n",
       "      <td>0</td>\n",
       "      <td>1</td>\n",
       "      <td>5381.0</td>\n",
       "      <td>4752.0</td>\n",
       "    </tr>\n",
       "  </tbody>\n",
       "</table>\n",
       "<p>5 rows × 27 columns</p>\n",
       "</div>"
      ],
      "text/plain": [
       "  geoCluster    SKU  shop_ewm_30  shop_ewm_60  shop_ewm_90  Monday  Tuesday  \\\n",
       "0         21  32485    34.960284    38.905272    42.497374       0        0   \n",
       "1         21  32485    32.674837    37.464691    41.275069       0        0   \n",
       "2         21  32485    30.540623    36.083310    40.095920       0        0   \n",
       "3         21  32485    28.547405    34.758276    38.957955       0        0   \n",
       "4         21  32485    26.685666    33.486901    37.859322       1        0   \n",
       "\n",
       "   Wednesday  Thursday  Friday  ...  Jun  Jul  Aug  Sep  Oct  Nov  Dec  \\\n",
       "0          0         1       0  ...    0    1    0    0    0    0    0   \n",
       "1          0         0       1  ...    0    1    0    0    0    0    0   \n",
       "2          0         0       0  ...    0    1    0    0    0    0    0   \n",
       "3          0         0       0  ...    0    1    0    0    0    0    0   \n",
       "4          0         0       0  ...    0    1    0    0    0    0    0   \n",
       "\n",
       "   cityId  productCategoryId  productTypeId  \n",
       "0       1             5381.0         4752.0  \n",
       "1       1             5381.0         4752.0  \n",
       "2       1             5381.0         4752.0  \n",
       "3       1             5381.0         4752.0  \n",
       "4       1             5381.0         4752.0  \n",
       "\n",
       "[5 rows x 27 columns]"
      ]
     },
     "execution_count": 24,
     "metadata": {},
     "output_type": "execute_result"
    }
   ],
   "source": [
    "df.iloc[:5,:].drop([ 'ID', 'date', 'price','sales', 'month_date', 'wkday','rev'],axis=1)"
   ]
  },
  {
   "cell_type": "code",
   "execution_count": 25,
   "metadata": {},
   "outputs": [
    {
     "data": {
      "text/plain": [
       "Index(['geoCluster', 'SKU', 'shop_ewm_30', 'shop_ewm_60', 'shop_ewm_90',\n",
       "       'Monday', 'Tuesday', 'Wednesday', 'Thursday', 'Friday', 'Saturday',\n",
       "       'Sunday', 'Jan', 'Feb', 'Mar', 'Apr', 'May', 'Jun', 'Jul', 'Aug', 'Sep',\n",
       "       'Oct', 'Nov', 'Dec', 'cityId', 'productCategoryId', 'productTypeId'],\n",
       "      dtype='object')"
      ]
     },
     "execution_count": 25,
     "metadata": {},
     "output_type": "execute_result"
    }
   ],
   "source": [
    "df.iloc[:5,:].drop([ 'ID', 'date', 'price','sales', 'month_date', 'wkday','rev'],axis=1).columns"
   ]
  },
  {
   "cell_type": "code",
   "execution_count": 27,
   "metadata": {},
   "outputs": [
    {
     "data": {
      "text/plain": [
       "(27956445, 34)"
      ]
     },
     "execution_count": 27,
     "metadata": {},
     "output_type": "execute_result"
    }
   ],
   "source": [
    "df.shape"
   ]
  },
  {
   "cell_type": "code",
   "execution_count": null,
   "metadata": {},
   "outputs": [],
   "source": []
  },
  {
   "cell_type": "markdown",
   "metadata": {},
   "source": [
    "**CREATE MODEL**"
   ]
  },
  {
   "cell_type": "code",
   "execution_count": 48,
   "metadata": {},
   "outputs": [],
   "source": [
    "from catboost import CatBoostRegressor,Pool\n",
    "import datetime"
   ]
  },
  {
   "cell_type": "code",
   "execution_count": null,
   "metadata": {},
   "outputs": [],
   "source": []
  },
  {
   "cell_type": "code",
   "execution_count": null,
   "metadata": {},
   "outputs": [],
   "source": []
  },
  {
   "cell_type": "code",
   "execution_count": 49,
   "metadata": {},
   "outputs": [
    {
     "name": "stdout",
     "output_type": "stream",
     "text": [
      "(21232547, 27) mln rows 21.232547\n",
      "total dur min: 4.983333333333333\n"
     ]
    }
   ],
   "source": [
    "#train pool\n",
    "t1=datetime.datetime.now()\n",
    "\n",
    "\n",
    "\n",
    "train_data=Pool(\n",
    "    df[df.date< pd.to_datetime('2021-05-19')].drop([ 'ID', 'date', 'price','sales', 'month_date', 'wkday','rev'],axis=1).values,\n",
    "    df[df.date< pd.to_datetime('2021-05-19')].sales.values,\n",
    "    cat_features=col_ind[0]\n",
    "    )\n",
    "t2=datetime.datetime.now()   \n",
    "print(train_data.shape,'mln rows',train_data.shape[0]/1e+6)\n",
    "print('total dur min:', (t2-t1).seconds/60  )  "
   ]
  },
  {
   "cell_type": "code",
   "execution_count": 50,
   "metadata": {},
   "outputs": [
    {
     "name": "stdout",
     "output_type": "stream",
     "text": [
      "(6723898, 27) mln rows 6.723898\n",
      "total dur min: 1.4333333333333333\n"
     ]
    }
   ],
   "source": [
    "#valid pool\n",
    "t1=datetime.datetime.now()\n",
    "\n",
    "valid_data=Pool(\n",
    "    df[df.date>= pd.to_datetime('2021-05-19')].drop([ 'ID', 'date', 'price','sales', 'month_date', 'wkday','rev'],axis=1).values,\n",
    "    df[df.date>= pd.to_datetime('2021-05-19')].sales.values,\n",
    "    cat_features=col_ind[0]\n",
    "    )\n",
    "t2=datetime.datetime.now()   \n",
    "print(valid_data.shape,'mln rows',valid_data.shape[0]/1e+6)\n",
    "print('total dur min:', (t2-t1).seconds/60  )  "
   ]
  },
  {
   "cell_type": "markdown",
   "metadata": {},
   "source": [
    "**CHECK ON TRAIN/VALID**"
   ]
  },
  {
   "cell_type": "code",
   "execution_count": 61,
   "metadata": {},
   "outputs": [
    {
     "name": "stdout",
     "output_type": "stream",
     "text": [
      "Learning rate set to 0.5\n",
      "0:\tlearn: 0.3787871\ttest: 0.3739982\tbest: 0.3739982 (0)\ttotal: 10.4s\tremaining: 17m 13s\n",
      "5:\tlearn: 0.3285194\ttest: 0.3372100\tbest: 0.3372100 (5)\ttotal: 41.2s\tremaining: 10m 45s\n",
      "10:\tlearn: 0.3233473\ttest: 0.3299318\tbest: 0.3299318 (10)\ttotal: 52.7s\tremaining: 7m 6s\n",
      "15:\tlearn: 0.3220237\ttest: 0.3216129\tbest: 0.3216129 (15)\ttotal: 1m 5s\tremaining: 5m 45s\n",
      "20:\tlearn: 0.3218754\ttest: 0.3253357\tbest: 0.3216129 (15)\ttotal: 1m 17s\tremaining: 4m 50s\n",
      "25:\tlearn: 0.3210706\ttest: 0.3228373\tbest: 0.3216129 (15)\ttotal: 1m 28s\tremaining: 4m 10s\n",
      "30:\tlearn: 0.3204257\ttest: 0.3239027\tbest: 0.3216129 (15)\ttotal: 1m 39s\tremaining: 3m 42s\n",
      "35:\tlearn: 0.3202353\ttest: 0.3230512\tbest: 0.3216129 (15)\ttotal: 1m 53s\tremaining: 3m 21s\n",
      "40:\tlearn: 0.3203947\ttest: 0.3230817\tbest: 0.3216129 (15)\ttotal: 2m 4s\tremaining: 2m 58s\n",
      "45:\tlearn: 0.3203970\ttest: 0.3229685\tbest: 0.3216129 (15)\ttotal: 2m 14s\tremaining: 2m 37s\n",
      "50:\tlearn: 0.3201293\ttest: 0.3209696\tbest: 0.3209696 (50)\ttotal: 2m 24s\tremaining: 2m 18s\n",
      "55:\tlearn: 0.3200035\ttest: 0.3209404\tbest: 0.3209404 (55)\ttotal: 2m 35s\tremaining: 2m 2s\n",
      "60:\tlearn: 0.3198771\ttest: 0.3189415\tbest: 0.3189415 (60)\ttotal: 2m 46s\tremaining: 1m 46s\n",
      "65:\tlearn: 0.3190220\ttest: 0.3180323\tbest: 0.3180323 (65)\ttotal: 2m 56s\tremaining: 1m 31s\n",
      "70:\tlearn: 0.3189491\ttest: 0.3189362\tbest: 0.3180323 (65)\ttotal: 3m 6s\tremaining: 1m 16s\n",
      "75:\tlearn: 0.3187426\ttest: 0.3193921\tbest: 0.3180323 (65)\ttotal: 3m 16s\tremaining: 1m 2s\n",
      "80:\tlearn: 0.3185497\ttest: 0.3201317\tbest: 0.3180323 (65)\ttotal: 3m 26s\tremaining: 48.4s\n",
      "85:\tlearn: 0.3183475\ttest: 0.3195630\tbest: 0.3180323 (65)\ttotal: 3m 37s\tremaining: 35.4s\n",
      "90:\tlearn: 0.3183031\ttest: 0.3200101\tbest: 0.3180323 (65)\ttotal: 3m 50s\tremaining: 22.8s\n",
      "95:\tlearn: 0.3180884\ttest: 0.3200668\tbest: 0.3180323 (65)\ttotal: 4m\tremaining: 10s\n",
      "99:\tlearn: 0.3178639\ttest: 0.3202283\tbest: 0.3180323 (65)\ttotal: 4m 9s\tremaining: 0us\n",
      "\n",
      "bestTest = 0.3180323094\n",
      "bestIteration = 65\n",
      "\n"
     ]
    },
    {
     "data": {
      "text/plain": [
       "<catboost.core.CatBoostRegressor at 0x7fcb7d9b5e10>"
      ]
     },
     "execution_count": 61,
     "metadata": {},
     "output_type": "execute_result"
    }
   ],
   "source": [
    "model=CatBoostRegressor(eval_metric='MAE',metric_period=5,subsample=0.7,\n",
    "                        iterations=100,\n",
    "                       # early_stopping_rounds=20, \n",
    "                        use_best_model=False\n",
    "                      )\n",
    "model.fit(train_data,eval_set=valid_data)"
   ]
  },
  {
   "cell_type": "code",
   "execution_count": 56,
   "metadata": {},
   "outputs": [
    {
     "data": {
      "text/html": [
       "<div>\n",
       "<style scoped>\n",
       "    .dataframe tbody tr th:only-of-type {\n",
       "        vertical-align: middle;\n",
       "    }\n",
       "\n",
       "    .dataframe tbody tr th {\n",
       "        vertical-align: top;\n",
       "    }\n",
       "\n",
       "    .dataframe thead th {\n",
       "        text-align: right;\n",
       "    }\n",
       "</style>\n",
       "<table border=\"1\" class=\"dataframe\">\n",
       "  <thead>\n",
       "    <tr style=\"text-align: right;\">\n",
       "      <th></th>\n",
       "      <th>feature_importance</th>\n",
       "      <th>feature_names</th>\n",
       "    </tr>\n",
       "  </thead>\n",
       "  <tbody>\n",
       "    <tr>\n",
       "      <th>1</th>\n",
       "      <td>33.127060</td>\n",
       "      <td>SKU</td>\n",
       "    </tr>\n",
       "    <tr>\n",
       "      <th>2</th>\n",
       "      <td>27.970332</td>\n",
       "      <td>shop_ewm_30</td>\n",
       "    </tr>\n",
       "    <tr>\n",
       "      <th>26</th>\n",
       "      <td>20.807678</td>\n",
       "      <td>productTypeId</td>\n",
       "    </tr>\n",
       "    <tr>\n",
       "      <th>25</th>\n",
       "      <td>16.328555</td>\n",
       "      <td>productCategoryId</td>\n",
       "    </tr>\n",
       "    <tr>\n",
       "      <th>0</th>\n",
       "      <td>1.161046</td>\n",
       "      <td>geoCluster</td>\n",
       "    </tr>\n",
       "    <tr>\n",
       "      <th>15</th>\n",
       "      <td>0.126177</td>\n",
       "      <td>Apr</td>\n",
       "    </tr>\n",
       "    <tr>\n",
       "      <th>4</th>\n",
       "      <td>0.124819</td>\n",
       "      <td>shop_ewm_90</td>\n",
       "    </tr>\n",
       "    <tr>\n",
       "      <th>22</th>\n",
       "      <td>0.115955</td>\n",
       "      <td>Nov</td>\n",
       "    </tr>\n",
       "    <tr>\n",
       "      <th>23</th>\n",
       "      <td>0.096298</td>\n",
       "      <td>Dec</td>\n",
       "    </tr>\n",
       "    <tr>\n",
       "      <th>3</th>\n",
       "      <td>0.078295</td>\n",
       "      <td>shop_ewm_60</td>\n",
       "    </tr>\n",
       "  </tbody>\n",
       "</table>\n",
       "</div>"
      ],
      "text/plain": [
       "    feature_importance      feature_names\n",
       "1            33.127060                SKU\n",
       "2            27.970332        shop_ewm_30\n",
       "26           20.807678      productTypeId\n",
       "25           16.328555  productCategoryId\n",
       "0             1.161046         geoCluster\n",
       "15            0.126177                Apr\n",
       "4             0.124819        shop_ewm_90\n",
       "22            0.115955                Nov\n",
       "23            0.096298                Dec\n",
       "3             0.078295        shop_ewm_60"
      ]
     },
     "execution_count": 56,
     "metadata": {},
     "output_type": "execute_result"
    }
   ],
   "source": [
    "df_imp=pd.DataFrame({'feature_importance': model.get_feature_importance(train_data), \n",
    "              'feature_names': df.iloc[:1,:].drop([ 'ID', 'date', 'price','sales', 'month_date', 'wkday','rev'],axis=1).columns}).sort_values('feature_importance',ascending=False)\n",
    "df_imp.head(10)"
   ]
  },
  {
   "cell_type": "code",
   "execution_count": null,
   "metadata": {},
   "outputs": [],
   "source": []
  },
  {
   "cell_type": "markdown",
   "metadata": {},
   "source": [
    "FIT ON FULL"
   ]
  },
  {
   "cell_type": "code",
   "execution_count": 62,
   "metadata": {},
   "outputs": [
    {
     "name": "stdout",
     "output_type": "stream",
     "text": [
      "(27956445, 27) mln rows 27.956445\n",
      "total dur min: 5.616666666666666\n"
     ]
    }
   ],
   "source": [
    "#train pool\n",
    "t1=datetime.datetime.now()\n",
    "\n",
    "\n",
    "\n",
    "train_data=Pool(\n",
    "    df.drop([ 'ID', 'date', 'price','sales', 'month_date', 'wkday','rev'],axis=1).values,\n",
    "    df.sales.values,\n",
    "    cat_features=col_ind[0]\n",
    "    )\n",
    "t2=datetime.datetime.now()   \n",
    "print(train_data.shape,'mln rows',train_data.shape[0]/1e+6)\n",
    "print('total dur min:', (t2-t1).seconds/60  )  "
   ]
  },
  {
   "cell_type": "code",
   "execution_count": 63,
   "metadata": {},
   "outputs": [
    {
     "name": "stdout",
     "output_type": "stream",
     "text": [
      "Learning rate set to 0.5\n",
      "0:\tlearn: 0.3621204\ttotal: 17.5s\tremaining: 28m 57s\n",
      "5:\tlearn: 0.3191432\ttotal: 59.9s\tremaining: 15m 38s\n",
      "10:\tlearn: 0.3153917\ttotal: 1m 21s\tremaining: 10m 59s\n",
      "15:\tlearn: 0.3147734\ttotal: 1m 37s\tremaining: 8m 29s\n",
      "20:\tlearn: 0.3137499\ttotal: 1m 53s\tremaining: 7m 6s\n",
      "25:\tlearn: 0.3136500\ttotal: 2m 9s\tremaining: 6m 7s\n",
      "30:\tlearn: 0.3132085\ttotal: 2m 23s\tremaining: 5m 19s\n",
      "35:\tlearn: 0.3130631\ttotal: 2m 38s\tremaining: 4m 41s\n",
      "40:\tlearn: 0.3128779\ttotal: 2m 52s\tremaining: 4m 8s\n",
      "45:\tlearn: 0.3128903\ttotal: 3m 11s\tremaining: 3m 45s\n",
      "50:\tlearn: 0.3124008\ttotal: 3m 26s\tremaining: 3m 18s\n",
      "55:\tlearn: 0.3122195\ttotal: 3m 54s\tremaining: 3m 4s\n",
      "60:\tlearn: 0.3119248\ttotal: 4m 9s\tremaining: 2m 39s\n",
      "65:\tlearn: 0.3121151\ttotal: 4m 24s\tremaining: 2m 16s\n",
      "70:\tlearn: 0.3117107\ttotal: 4m 38s\tremaining: 1m 53s\n",
      "75:\tlearn: 0.3116787\ttotal: 4m 56s\tremaining: 1m 33s\n",
      "80:\tlearn: 0.3117789\ttotal: 5m 11s\tremaining: 1m 13s\n",
      "85:\tlearn: 0.3117853\ttotal: 5m 30s\tremaining: 53.7s\n",
      "90:\tlearn: 0.3115136\ttotal: 5m 45s\tremaining: 34.2s\n",
      "95:\tlearn: 0.3111890\ttotal: 6m\tremaining: 15s\n",
      "99:\tlearn: 0.3108803\ttotal: 6m 12s\tremaining: 0us\n"
     ]
    },
    {
     "data": {
      "text/plain": [
       "<catboost.core.CatBoostRegressor at 0x7fcb7da1ee10>"
      ]
     },
     "execution_count": 63,
     "metadata": {},
     "output_type": "execute_result"
    }
   ],
   "source": [
    "model_fin=CatBoostRegressor(eval_metric='MAE',metric_period=5,subsample=0.7,\n",
    "                        iterations=100,\n",
    "                       # early_stopping_rounds=20, \n",
    "                        use_best_model=False\n",
    "                      )\n",
    "model_fin.fit(train_data)"
   ]
  },
  {
   "cell_type": "code",
   "execution_count": null,
   "metadata": {},
   "outputs": [],
   "source": []
  },
  {
   "cell_type": "code",
   "execution_count": null,
   "metadata": {},
   "outputs": [],
   "source": []
  },
  {
   "cell_type": "code",
   "execution_count": null,
   "metadata": {},
   "outputs": [],
   "source": []
  },
  {
   "cell_type": "markdown",
   "metadata": {},
   "source": [
    "**PREDICT ON TEST**"
   ]
  },
  {
   "cell_type": "code",
   "execution_count": 37,
   "metadata": {},
   "outputs": [
    {
     "data": {
      "text/html": [
       "<div>\n",
       "<style scoped>\n",
       "    .dataframe tbody tr th:only-of-type {\n",
       "        vertical-align: middle;\n",
       "    }\n",
       "\n",
       "    .dataframe tbody tr th {\n",
       "        vertical-align: top;\n",
       "    }\n",
       "\n",
       "    .dataframe thead th {\n",
       "        text-align: right;\n",
       "    }\n",
       "</style>\n",
       "<table border=\"1\" class=\"dataframe\">\n",
       "  <thead>\n",
       "    <tr style=\"text-align: right;\">\n",
       "      <th></th>\n",
       "      <th>ID</th>\n",
       "      <th>geoCluster</th>\n",
       "      <th>SKU</th>\n",
       "      <th>date</th>\n",
       "      <th>price</th>\n",
       "    </tr>\n",
       "  </thead>\n",
       "  <tbody>\n",
       "    <tr>\n",
       "      <th>0</th>\n",
       "      <td>RR1666030</td>\n",
       "      <td>21</td>\n",
       "      <td>32485</td>\n",
       "      <td>2021-07-20</td>\n",
       "      <td>66.69</td>\n",
       "    </tr>\n",
       "    <tr>\n",
       "      <th>1</th>\n",
       "      <td>RR1666031</td>\n",
       "      <td>21</td>\n",
       "      <td>32485</td>\n",
       "      <td>2021-07-21</td>\n",
       "      <td>66.69</td>\n",
       "    </tr>\n",
       "    <tr>\n",
       "      <th>2</th>\n",
       "      <td>RR1666032</td>\n",
       "      <td>21</td>\n",
       "      <td>32485</td>\n",
       "      <td>2021-07-22</td>\n",
       "      <td>66.69</td>\n",
       "    </tr>\n",
       "    <tr>\n",
       "      <th>3</th>\n",
       "      <td>RR1666033</td>\n",
       "      <td>21</td>\n",
       "      <td>32485</td>\n",
       "      <td>2021-07-23</td>\n",
       "      <td>66.69</td>\n",
       "    </tr>\n",
       "    <tr>\n",
       "      <th>4</th>\n",
       "      <td>RR1666034</td>\n",
       "      <td>21</td>\n",
       "      <td>32485</td>\n",
       "      <td>2021-07-24</td>\n",
       "      <td>66.69</td>\n",
       "    </tr>\n",
       "  </tbody>\n",
       "</table>\n",
       "</div>"
      ],
      "text/plain": [
       "          ID  geoCluster    SKU       date  price\n",
       "0  RR1666030          21  32485 2021-07-20  66.69\n",
       "1  RR1666031          21  32485 2021-07-21  66.69\n",
       "2  RR1666032          21  32485 2021-07-22  66.69\n",
       "3  RR1666033          21  32485 2021-07-23  66.69\n",
       "4  RR1666034          21  32485 2021-07-24  66.69"
      ]
     },
     "execution_count": 37,
     "metadata": {},
     "output_type": "execute_result"
    }
   ],
   "source": [
    "df_test=pd.read_csv('test_data.csv')\n",
    "df_test['date']=pd.to_datetime(df_test['date'])\n",
    "df_test.head()"
   ]
  },
  {
   "cell_type": "code",
   "execution_count": 38,
   "metadata": {},
   "outputs": [
    {
     "name": "stdout",
     "output_type": "stream",
     "text": [
      "[Timestamp('2021-07-20 00:00:00'), Timestamp('2021-08-02 00:00:00')]\n",
      "(1666028, 5)\n"
     ]
    }
   ],
   "source": [
    "print([df_test.date.min(),df_test.date.max()])\n",
    "print(df_test.shape)"
   ]
  },
  {
   "cell_type": "code",
   "execution_count": 39,
   "metadata": {},
   "outputs": [
    {
     "name": "stdout",
     "output_type": "stream",
     "text": [
      "iter # 0\n",
      "iter # 50\n",
      "iter # 100\n",
      "iter # 150\n",
      "iter # 200\n",
      "iter # 250\n",
      "iter # 300\n",
      "iter # 350\n",
      "iter # 400\n",
      "iter # 450\n",
      "iter # 500\n",
      "iter # 550\n",
      "iter # 600\n",
      "iter # 650\n",
      "iter # 700\n",
      "iter # 750\n",
      "iter # 800\n",
      "iter # 850\n",
      "iter # 900\n",
      "iter # 950\n",
      "iter # 1000\n",
      "(1666028, 34)\n"
     ]
    },
    {
     "data": {
      "text/html": [
       "<div>\n",
       "<style scoped>\n",
       "    .dataframe tbody tr th:only-of-type {\n",
       "        vertical-align: middle;\n",
       "    }\n",
       "\n",
       "    .dataframe tbody tr th {\n",
       "        vertical-align: top;\n",
       "    }\n",
       "\n",
       "    .dataframe thead th {\n",
       "        text-align: right;\n",
       "    }\n",
       "</style>\n",
       "<table border=\"1\" class=\"dataframe\">\n",
       "  <thead>\n",
       "    <tr style=\"text-align: right;\">\n",
       "      <th></th>\n",
       "      <th>ID</th>\n",
       "      <th>geoCluster</th>\n",
       "      <th>SKU</th>\n",
       "      <th>date</th>\n",
       "      <th>price</th>\n",
       "      <th>sales</th>\n",
       "      <th>rev</th>\n",
       "      <th>shop_ewm_30</th>\n",
       "      <th>shop_ewm_60</th>\n",
       "      <th>shop_ewm_90</th>\n",
       "      <th>...</th>\n",
       "      <th>Jun</th>\n",
       "      <th>Jul</th>\n",
       "      <th>Aug</th>\n",
       "      <th>Sep</th>\n",
       "      <th>Oct</th>\n",
       "      <th>Nov</th>\n",
       "      <th>Dec</th>\n",
       "      <th>cityId</th>\n",
       "      <th>productCategoryId</th>\n",
       "      <th>productTypeId</th>\n",
       "    </tr>\n",
       "  </thead>\n",
       "  <tbody>\n",
       "    <tr>\n",
       "      <th>0</th>\n",
       "      <td>RR1666030</td>\n",
       "      <td>21</td>\n",
       "      <td>32485</td>\n",
       "      <td>2021-07-20</td>\n",
       "      <td>66.69</td>\n",
       "      <td>0.0</td>\n",
       "      <td>0.0</td>\n",
       "      <td>0.0</td>\n",
       "      <td>0.0</td>\n",
       "      <td>0.0</td>\n",
       "      <td>...</td>\n",
       "      <td>0</td>\n",
       "      <td>1</td>\n",
       "      <td>0</td>\n",
       "      <td>0</td>\n",
       "      <td>0</td>\n",
       "      <td>0</td>\n",
       "      <td>0</td>\n",
       "      <td>1</td>\n",
       "      <td>5381.0</td>\n",
       "      <td>4752.0</td>\n",
       "    </tr>\n",
       "    <tr>\n",
       "      <th>1</th>\n",
       "      <td>RR1666031</td>\n",
       "      <td>21</td>\n",
       "      <td>32485</td>\n",
       "      <td>2021-07-21</td>\n",
       "      <td>66.69</td>\n",
       "      <td>0.0</td>\n",
       "      <td>0.0</td>\n",
       "      <td>0.0</td>\n",
       "      <td>0.0</td>\n",
       "      <td>0.0</td>\n",
       "      <td>...</td>\n",
       "      <td>0</td>\n",
       "      <td>1</td>\n",
       "      <td>0</td>\n",
       "      <td>0</td>\n",
       "      <td>0</td>\n",
       "      <td>0</td>\n",
       "      <td>0</td>\n",
       "      <td>1</td>\n",
       "      <td>5381.0</td>\n",
       "      <td>4752.0</td>\n",
       "    </tr>\n",
       "    <tr>\n",
       "      <th>2</th>\n",
       "      <td>RR1666032</td>\n",
       "      <td>21</td>\n",
       "      <td>32485</td>\n",
       "      <td>2021-07-22</td>\n",
       "      <td>66.69</td>\n",
       "      <td>0.0</td>\n",
       "      <td>0.0</td>\n",
       "      <td>0.0</td>\n",
       "      <td>0.0</td>\n",
       "      <td>0.0</td>\n",
       "      <td>...</td>\n",
       "      <td>0</td>\n",
       "      <td>1</td>\n",
       "      <td>0</td>\n",
       "      <td>0</td>\n",
       "      <td>0</td>\n",
       "      <td>0</td>\n",
       "      <td>0</td>\n",
       "      <td>1</td>\n",
       "      <td>5381.0</td>\n",
       "      <td>4752.0</td>\n",
       "    </tr>\n",
       "    <tr>\n",
       "      <th>3</th>\n",
       "      <td>RR1666033</td>\n",
       "      <td>21</td>\n",
       "      <td>32485</td>\n",
       "      <td>2021-07-23</td>\n",
       "      <td>66.69</td>\n",
       "      <td>0.0</td>\n",
       "      <td>0.0</td>\n",
       "      <td>0.0</td>\n",
       "      <td>0.0</td>\n",
       "      <td>0.0</td>\n",
       "      <td>...</td>\n",
       "      <td>0</td>\n",
       "      <td>1</td>\n",
       "      <td>0</td>\n",
       "      <td>0</td>\n",
       "      <td>0</td>\n",
       "      <td>0</td>\n",
       "      <td>0</td>\n",
       "      <td>1</td>\n",
       "      <td>5381.0</td>\n",
       "      <td>4752.0</td>\n",
       "    </tr>\n",
       "    <tr>\n",
       "      <th>4</th>\n",
       "      <td>RR1666034</td>\n",
       "      <td>21</td>\n",
       "      <td>32485</td>\n",
       "      <td>2021-07-24</td>\n",
       "      <td>66.69</td>\n",
       "      <td>0.0</td>\n",
       "      <td>0.0</td>\n",
       "      <td>0.0</td>\n",
       "      <td>0.0</td>\n",
       "      <td>0.0</td>\n",
       "      <td>...</td>\n",
       "      <td>0</td>\n",
       "      <td>1</td>\n",
       "      <td>0</td>\n",
       "      <td>0</td>\n",
       "      <td>0</td>\n",
       "      <td>0</td>\n",
       "      <td>0</td>\n",
       "      <td>1</td>\n",
       "      <td>5381.0</td>\n",
       "      <td>4752.0</td>\n",
       "    </tr>\n",
       "  </tbody>\n",
       "</table>\n",
       "<p>5 rows × 34 columns</p>\n",
       "</div>"
      ],
      "text/plain": [
       "          ID geoCluster    SKU       date  price  sales  rev  shop_ewm_30  \\\n",
       "0  RR1666030         21  32485 2021-07-20  66.69    0.0  0.0          0.0   \n",
       "1  RR1666031         21  32485 2021-07-21  66.69    0.0  0.0          0.0   \n",
       "2  RR1666032         21  32485 2021-07-22  66.69    0.0  0.0          0.0   \n",
       "3  RR1666033         21  32485 2021-07-23  66.69    0.0  0.0          0.0   \n",
       "4  RR1666034         21  32485 2021-07-24  66.69    0.0  0.0          0.0   \n",
       "\n",
       "   shop_ewm_60  shop_ewm_90  ...  Jun  Jul  Aug  Sep  Oct  Nov  Dec  cityId  \\\n",
       "0          0.0          0.0  ...    0    1    0    0    0    0    0       1   \n",
       "1          0.0          0.0  ...    0    1    0    0    0    0    0       1   \n",
       "2          0.0          0.0  ...    0    1    0    0    0    0    0       1   \n",
       "3          0.0          0.0  ...    0    1    0    0    0    0    0       1   \n",
       "4          0.0          0.0  ...    0    1    0    0    0    0    0       1   \n",
       "\n",
       "   productCategoryId  productTypeId  \n",
       "0             5381.0         4752.0  \n",
       "1             5381.0         4752.0  \n",
       "2             5381.0         4752.0  \n",
       "3             5381.0         4752.0  \n",
       "4             5381.0         4752.0  \n",
       "\n",
       "[5 rows x 34 columns]"
      ]
     },
     "execution_count": 39,
     "metadata": {},
     "output_type": "execute_result"
    }
   ],
   "source": [
    "df_for_test=df[df.date>= pd.to_datetime('2021-04-01')][['ID','geoCluster','SKU','date','price','sales']].copy()\n",
    "\n",
    "df_test['sales']=0\n",
    "df_test=df_test.append(df_for_test)\n",
    "df_test=transform_dataframe(df_test)\n",
    "\n",
    "df_test=df_test[df_test.date>=pd.to_datetime('2021-07-20')]\n",
    "df_test[['geoCluster','SKU','cityId']]=df_test[['geoCluster','SKU','cityId']].apply(lambda x:x.astype(str))\n",
    "print(df_test.shape)\n",
    "df_test.head()"
   ]
  },
  {
   "cell_type": "code",
   "execution_count": 46,
   "metadata": {},
   "outputs": [
    {
     "name": "stdout",
     "output_type": "stream",
     "text": [
      "is 1?- 1.0\n"
     ]
    }
   ],
   "source": [
    "print('is 1?-' , np.mean(df_test.iloc[:2,:].dtypes==df.iloc[:2,:].dtypes) )"
   ]
  },
  {
   "cell_type": "code",
   "execution_count": 65,
   "metadata": {},
   "outputs": [
    {
     "data": {
      "text/plain": [
       "(1666028, 34)"
      ]
     },
     "execution_count": 65,
     "metadata": {},
     "output_type": "execute_result"
    }
   ],
   "source": [
    "df_test.shape"
   ]
  },
  {
   "cell_type": "code",
   "execution_count": 68,
   "metadata": {},
   "outputs": [
    {
     "data": {
      "text/plain": [
       "ID                   0\n",
       "geoCluster           0\n",
       "SKU                  0\n",
       "date                 0\n",
       "price                0\n",
       "sales                0\n",
       "rev                  0\n",
       "shop_ewm_30          0\n",
       "shop_ewm_60          0\n",
       "shop_ewm_90          0\n",
       "wkday                0\n",
       "month_date           0\n",
       "Monday               0\n",
       "Tuesday              0\n",
       "Wednesday            0\n",
       "Thursday             0\n",
       "Friday               0\n",
       "Saturday             0\n",
       "Sunday               0\n",
       "Jan                  0\n",
       "Feb                  0\n",
       "Mar                  0\n",
       "Apr                  0\n",
       "May                  0\n",
       "Jun                  0\n",
       "Jul                  0\n",
       "Aug                  0\n",
       "Sep                  0\n",
       "Oct                  0\n",
       "Nov                  0\n",
       "Dec                  0\n",
       "cityId               0\n",
       "productCategoryId    0\n",
       "productTypeId        0\n",
       "dtype: int64"
      ]
     },
     "execution_count": 68,
     "metadata": {},
     "output_type": "execute_result"
    }
   ],
   "source": [
    "df_test.isnull().sum()"
   ]
  },
  {
   "cell_type": "code",
   "execution_count": 69,
   "metadata": {},
   "outputs": [
    {
     "data": {
      "text/plain": [
       "(1666028, 34)"
      ]
     },
     "execution_count": 69,
     "metadata": {},
     "output_type": "execute_result"
    }
   ],
   "source": [
    "df_test.shape"
   ]
  },
  {
   "cell_type": "code",
   "execution_count": 67,
   "metadata": {},
   "outputs": [
    {
     "name": "stdout",
     "output_type": "stream",
     "text": [
      "is True? - True\n"
     ]
    }
   ],
   "source": [
    "print('is True? -', df_test.shape[1]==df.shape[1])"
   ]
  },
  {
   "cell_type": "code",
   "execution_count": 70,
   "metadata": {},
   "outputs": [
    {
     "name": "stdout",
     "output_type": "stream",
     "text": [
      "(1666028, 34) mln rows 1.666028\n",
      "total dur min: 0.3\n"
     ]
    }
   ],
   "source": [
    "#train pool\n",
    "t1=datetime.datetime.now()\n",
    "\n",
    "\n",
    "\n",
    "predict_data=Pool(\n",
    "    df_test.drop([ 'ID', 'date', 'price','sales', 'month_date', 'wkday','rev'],axis=1).values,\n",
    "    df_test.sales.values,\n",
    "    cat_features=col_ind[0]\n",
    "    )\n",
    "t2=datetime.datetime.now()   \n",
    "print(df_test.shape,'mln rows',df_test.shape[0]/1e+6)\n",
    "print('total dur min:', (t2-t1).seconds/60  )  "
   ]
  },
  {
   "cell_type": "code",
   "execution_count": 71,
   "metadata": {},
   "outputs": [],
   "source": [
    "sales_predict=model_fin.predict(predict_data)"
   ]
  },
  {
   "cell_type": "code",
   "execution_count": 89,
   "metadata": {},
   "outputs": [
    {
     "name": "stdout",
     "output_type": "stream",
     "text": [
      "part of negative predict\n"
     ]
    },
    {
     "data": {
      "text/plain": [
       "0.4204437140312168"
      ]
     },
     "execution_count": 89,
     "metadata": {},
     "output_type": "execute_result"
    }
   ],
   "source": [
    "print('part of negative predict')\n",
    "len(sales_predict[sales_predict<0])/len(sales_predict)"
   ]
  },
  {
   "cell_type": "code",
   "execution_count": 90,
   "metadata": {},
   "outputs": [
    {
     "name": "stdout",
     "output_type": "stream",
     "text": [
      "part of negative predict\n"
     ]
    },
    {
     "data": {
      "text/plain": [
       "0.0"
      ]
     },
     "execution_count": 90,
     "metadata": {},
     "output_type": "execute_result"
    }
   ],
   "source": [
    "sales_predict[sales_predict<0]=0\n",
    "print('part of negative predict')\n",
    "len(sales_predict[sales_predict<0])/len(sales_predict)"
   ]
  },
  {
   "cell_type": "code",
   "execution_count": 91,
   "metadata": {},
   "outputs": [
    {
     "data": {
      "text/plain": [
       "array([0.        , 0.        , 0.        , 0.        , 0.        ,\n",
       "       0.        , 0.        , 0.        , 0.        , 0.        ,\n",
       "       0.        , 0.        , 0.        , 0.        , 0.1099116 ,\n",
       "       0.1328374 , 0.14662421, 0.13922358, 0.14060048, 0.13449327,\n",
       "       0.12663937, 0.1099116 , 0.1328374 , 0.14662421, 0.13922358,\n",
       "       0.14060048, 0.1479451 , 0.1400912 , 0.1099116 , 0.1328374 ,\n",
       "       0.14662421, 0.13922358, 0.14060048, 0.13449327, 0.12663937,\n",
       "       0.1099116 , 0.1328374 , 0.14662421, 0.13922358, 0.14060048,\n",
       "       0.1479451 , 0.1400912 , 0.1099116 , 0.1328374 , 0.14662421,\n",
       "       0.13922358, 0.14060048, 0.13449327, 0.12663937, 0.1099116 ,\n",
       "       0.1328374 , 0.14662421, 0.13922358, 0.14060048, 0.1479451 ,\n",
       "       0.1400912 , 0.1099116 , 0.1328374 , 0.14662421, 0.13922358,\n",
       "       0.14060048, 0.13449327, 0.12663937, 0.1099116 , 0.1328374 ,\n",
       "       0.14662421, 0.13922358, 0.14060048, 0.1479451 , 0.1400912 ,\n",
       "       0.1099116 , 0.1328374 , 0.14662421, 0.13922358, 0.14060048,\n",
       "       0.13449327, 0.12663937, 0.1099116 , 0.1328374 , 0.14662421,\n",
       "       0.13922358, 0.14060048, 0.1479451 , 0.1400912 , 0.30059215,\n",
       "       0.33904122, 0.36095896, 0.35355832, 0.35493523, 0.34882801,\n",
       "       0.33551146, 0.30059215, 0.33904122, 0.36095896, 0.35355832,\n",
       "       0.35493523, 0.33601428, 0.32269773, 0.0167389 , 0.01708128])"
      ]
     },
     "execution_count": 91,
     "metadata": {},
     "output_type": "execute_result"
    }
   ],
   "source": [
    "sales_predict[:100]"
   ]
  },
  {
   "cell_type": "code",
   "execution_count": null,
   "metadata": {},
   "outputs": [],
   "source": []
  },
  {
   "cell_type": "markdown",
   "metadata": {},
   "source": [
    "**write to sample file**"
   ]
  },
  {
   "cell_type": "code",
   "execution_count": 96,
   "metadata": {},
   "outputs": [
    {
     "data": {
      "text/html": [
       "<div>\n",
       "<style scoped>\n",
       "    .dataframe tbody tr th:only-of-type {\n",
       "        vertical-align: middle;\n",
       "    }\n",
       "\n",
       "    .dataframe tbody tr th {\n",
       "        vertical-align: top;\n",
       "    }\n",
       "\n",
       "    .dataframe thead th {\n",
       "        text-align: right;\n",
       "    }\n",
       "</style>\n",
       "<table border=\"1\" class=\"dataframe\">\n",
       "  <thead>\n",
       "    <tr style=\"text-align: right;\">\n",
       "      <th></th>\n",
       "      <th>ID</th>\n",
       "      <th>sales</th>\n",
       "    </tr>\n",
       "  </thead>\n",
       "  <tbody>\n",
       "    <tr>\n",
       "      <th>0</th>\n",
       "      <td>RR1666030</td>\n",
       "      <td>0</td>\n",
       "    </tr>\n",
       "    <tr>\n",
       "      <th>1</th>\n",
       "      <td>RR1666031</td>\n",
       "      <td>0</td>\n",
       "    </tr>\n",
       "    <tr>\n",
       "      <th>2</th>\n",
       "      <td>RR1666032</td>\n",
       "      <td>0</td>\n",
       "    </tr>\n",
       "    <tr>\n",
       "      <th>3</th>\n",
       "      <td>RR1666033</td>\n",
       "      <td>0</td>\n",
       "    </tr>\n",
       "    <tr>\n",
       "      <th>4</th>\n",
       "      <td>RR1666034</td>\n",
       "      <td>0</td>\n",
       "    </tr>\n",
       "  </tbody>\n",
       "</table>\n",
       "</div>"
      ],
      "text/plain": [
       "          ID  sales\n",
       "0  RR1666030      0\n",
       "1  RR1666031      0\n",
       "2  RR1666032      0\n",
       "3  RR1666033      0\n",
       "4  RR1666034      0"
      ]
     },
     "execution_count": 96,
     "metadata": {},
     "output_type": "execute_result"
    }
   ],
   "source": [
    "df_sample=pd.read_csv('sample_final.csv',sep=',')\n",
    "df_sample.head()"
   ]
  },
  {
   "cell_type": "code",
   "execution_count": 97,
   "metadata": {},
   "outputs": [
    {
     "data": {
      "text/plain": [
       "1.0"
      ]
     },
     "execution_count": 97,
     "metadata": {},
     "output_type": "execute_result"
    }
   ],
   "source": [
    "np.mean(df_sample.ID.values==df_test.ID.values)"
   ]
  },
  {
   "cell_type": "code",
   "execution_count": 98,
   "metadata": {},
   "outputs": [
    {
     "data": {
      "text/html": [
       "<div>\n",
       "<style scoped>\n",
       "    .dataframe tbody tr th:only-of-type {\n",
       "        vertical-align: middle;\n",
       "    }\n",
       "\n",
       "    .dataframe tbody tr th {\n",
       "        vertical-align: top;\n",
       "    }\n",
       "\n",
       "    .dataframe thead th {\n",
       "        text-align: right;\n",
       "    }\n",
       "</style>\n",
       "<table border=\"1\" class=\"dataframe\">\n",
       "  <thead>\n",
       "    <tr style=\"text-align: right;\">\n",
       "      <th></th>\n",
       "      <th>ID</th>\n",
       "      <th>sales</th>\n",
       "    </tr>\n",
       "  </thead>\n",
       "  <tbody>\n",
       "    <tr>\n",
       "      <th>0</th>\n",
       "      <td>RR1666030</td>\n",
       "      <td>0.0</td>\n",
       "    </tr>\n",
       "    <tr>\n",
       "      <th>1</th>\n",
       "      <td>RR1666031</td>\n",
       "      <td>0.0</td>\n",
       "    </tr>\n",
       "    <tr>\n",
       "      <th>2</th>\n",
       "      <td>RR1666032</td>\n",
       "      <td>0.0</td>\n",
       "    </tr>\n",
       "    <tr>\n",
       "      <th>3</th>\n",
       "      <td>RR1666033</td>\n",
       "      <td>0.0</td>\n",
       "    </tr>\n",
       "    <tr>\n",
       "      <th>4</th>\n",
       "      <td>RR1666034</td>\n",
       "      <td>0.0</td>\n",
       "    </tr>\n",
       "  </tbody>\n",
       "</table>\n",
       "</div>"
      ],
      "text/plain": [
       "          ID  sales\n",
       "0  RR1666030    0.0\n",
       "1  RR1666031    0.0\n",
       "2  RR1666032    0.0\n",
       "3  RR1666033    0.0\n",
       "4  RR1666034    0.0"
      ]
     },
     "execution_count": 98,
     "metadata": {},
     "output_type": "execute_result"
    }
   ],
   "source": [
    "df_sample['sales']=sales_predict\n",
    "df_sample.head()"
   ]
  },
  {
   "cell_type": "code",
   "execution_count": 99,
   "metadata": {},
   "outputs": [
    {
     "data": {
      "text/plain": [
       "count    1.666028e+06\n",
       "mean     4.201584e-02\n",
       "std      1.205616e-01\n",
       "min      0.000000e+00\n",
       "25%      0.000000e+00\n",
       "50%      6.646837e-03\n",
       "75%      4.359941e-02\n",
       "max      7.905415e+00\n",
       "Name: sales, dtype: float64"
      ]
     },
     "execution_count": 99,
     "metadata": {},
     "output_type": "execute_result"
    }
   ],
   "source": [
    "df_sample.sales.describe()"
   ]
  },
  {
   "cell_type": "code",
   "execution_count": 100,
   "metadata": {},
   "outputs": [],
   "source": [
    "df_sample.to_csv('catboost_sub.csv',sep=',',index=False)"
   ]
  }
 ],
 "metadata": {
  "kernelspec": {
   "display_name": "Python 3",
   "language": "python",
   "name": "python3"
  },
  "language_info": {
   "codemirror_mode": {
    "name": "ipython",
    "version": 3
   },
   "file_extension": ".py",
   "mimetype": "text/x-python",
   "name": "python",
   "nbconvert_exporter": "python",
   "pygments_lexer": "ipython3",
   "version": "3.7.4"
  }
 },
 "nbformat": 4,
 "nbformat_minor": 2
}
